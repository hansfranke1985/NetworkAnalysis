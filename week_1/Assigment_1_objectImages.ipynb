{
 "cells": [
  {
   "cell_type": "markdown",
   "metadata": {},
   "source": [
    "<h1 align = 'center'> Network Analysis </h1>\n",
    "<h2 align = 'center'> Individual Assignment 1 </h2>\n",
    "\n",
    "<h3 align = 'center'> Object Images </h2>\n",
    "\n",
    "<h4 align = 'center' > @ChenYu Wang - , 6774326 </h4>\n",
    "<h4 align = 'center' > @Lena Walcher - l.t.walcher@students.uu.nl, 6774326 </h4>\n",
    "<h4 align = 'center' > @Ioannis Konstantakopoulos - , 6774326 </h4>\n",
    "<h4 align = 'center' > @Hans Franke - h.a.franke@students.uu.nl, 6774326 </h4>\n"
   ]
  },
  {
   "cell_type": "code",
   "execution_count": 5,
   "metadata": {},
   "outputs": [],
   "source": [
    "import tensorflow as tf\n",
    "import keras\n",
    "import pandas as pd\n",
    "import numpy as np\n",
    "import matplotlib.pyplot as plt\n",
    "from keras.preprocessing.image import ImageDataGenerator #preprocessing images"
   ]
  },
  {
   "cell_type": "code",
   "execution_count": 6,
   "metadata": {},
   "outputs": [
    {
     "name": "stdout",
     "output_type": "stream",
     "text": [
      "[name: \"/device:CPU:0\"\n",
      "device_type: \"CPU\"\n",
      "memory_limit: 268435456\n",
      "locality {\n",
      "}\n",
      "incarnation: 10229439093768555126\n",
      ", name: \"/device:GPU:0\"\n",
      "device_type: \"GPU\"\n",
      "memory_limit: 6959755424\n",
      "locality {\n",
      "  bus_id: 1\n",
      "  links {\n",
      "  }\n",
      "}\n",
      "incarnation: 11383059481653327830\n",
      "physical_device_desc: \"device: 0, name: GeForce RTX 2070 with Max-Q Design, pci bus id: 0000:01:00.0, compute capability: 7.5\"\n",
      "]\n"
     ]
    }
   ],
   "source": [
    "from tensorflow.python.client import device_lib\n",
    "print(device_lib.list_local_devices())"
   ]
  },
  {
   "cell_type": "markdown",
   "metadata": {},
   "source": [
    "Identifying objects from images with a high variation in object position, size and\n",
    "viewing angle is a particularly difficult problem, and a major application of artificial\n",
    "deep learning networks. Here we will build a network to do this.\n",
    "\n",
    "This network has\n",
    "more layers and is more computationally-intensive than previous exercises, even\n",
    "using the low-resolution images we will use here.\n",
    "The CIFAR-10 dataset contains colour images of objects, each 32x32x3 pixels (for\n",
    "the three colour channels). These have 10 categories (or classes) of object (airplane,\n",
    "automobile, bird, cat, deer, dog, frog, horse, ship & truck) with 5,000 images in each,\n",
    "making a total of 50,000 images in the training set (x_train, y_train), randomly\n",
    "ordered with numerical labels for each (1=airplane, 2=automobile etc.). The test set\n",
    "(x_test, y_test) contains 10,000 images ordered by their label."
   ]
  },
  {
   "cell_type": "code",
   "execution_count": 7,
   "metadata": {},
   "outputs": [],
   "source": [
    "#Download the dataset\n",
    "(x_train, y_train), (x_test, y_test) = keras.datasets.cifar10.load_data() "
   ]
  },
  {
   "cell_type": "code",
   "execution_count": 8,
   "metadata": {},
   "outputs": [],
   "source": [
    "#Save to disk (avoid the need of download one more time.. ~23 min :( ) Uncoment to save again, in case of step above used!\n",
    "#np.save('x_train', x_train)\n",
    "#np.save('y_train', y_train)\n",
    "#np.save('x_test', x_test)\n",
    "#np.save('y_test', y_test)"
   ]
  },
  {
   "cell_type": "code",
   "execution_count": 9,
   "metadata": {},
   "outputs": [],
   "source": [
    "#load Files\n",
    "x_train = np.load('x_train.npy')\n",
    "x_test = np.load('x_test.npy')\n",
    "y_train = np.load('y_train.npy')\n",
    "y_test = np.load('y_test.npy')"
   ]
  },
  {
   "cell_type": "code",
   "execution_count": 10,
   "metadata": {},
   "outputs": [],
   "source": [
    "#scale the data\n",
    "x_train = x_train / 255\n",
    "x_test = x_test / 255\n"
   ]
  },
  {
   "cell_type": "code",
   "execution_count": 11,
   "metadata": {},
   "outputs": [],
   "source": [
    "#Categorical Variables\n",
    "y_train = keras.utils.to_categorical(y_train, 10)\n",
    "y_test = keras.utils.to_categorical(y_test, 10)\n"
   ]
  },
  {
   "cell_type": "markdown",
   "metadata": {},
   "source": [
    "## Question 16:\n",
    "Before fitting the model, show your teacher the code you used to define the model\n",
    "described here. (Question 16, 6 points)"
   ]
  },
  {
   "cell_type": "code",
   "execution_count": 12,
   "metadata": {},
   "outputs": [
    {
     "name": "stdout",
     "output_type": "stream",
     "text": [
      "Model: \"sequential_1\"\n",
      "_________________________________________________________________\n",
      "Layer (type)                 Output Shape              Param #   \n",
      "=================================================================\n",
      "conv2d_4 (Conv2D)            (None, 32, 32, 32)        896       \n",
      "_________________________________________________________________\n",
      "conv2d_5 (Conv2D)            (None, 30, 30, 32)        9248      \n",
      "_________________________________________________________________\n",
      "max_pooling2d_2 (MaxPooling2 (None, 15, 15, 32)        0         \n",
      "_________________________________________________________________\n",
      "dropout_3 (Dropout)          (None, 15, 15, 32)        0         \n",
      "_________________________________________________________________\n",
      "conv2d_6 (Conv2D)            (None, 15, 15, 32)        9248      \n",
      "_________________________________________________________________\n",
      "conv2d_7 (Conv2D)            (None, 13, 13, 32)        9248      \n",
      "_________________________________________________________________\n",
      "max_pooling2d_3 (MaxPooling2 (None, 6, 6, 32)          0         \n",
      "_________________________________________________________________\n",
      "dropout_4 (Dropout)          (None, 6, 6, 32)          0         \n",
      "_________________________________________________________________\n",
      "flatten_1 (Flatten)          (None, 1152)              0         \n",
      "_________________________________________________________________\n",
      "dense_2 (Dense)              (None, 512)               590336    \n",
      "_________________________________________________________________\n",
      "dropout_5 (Dropout)          (None, 512)               0         \n",
      "_________________________________________________________________\n",
      "dense_3 (Dense)              (None, 10)                5130      \n",
      "=================================================================\n",
      "Total params: 624,106\n",
      "Trainable params: 624,106\n",
      "Non-trainable params: 0\n",
      "_________________________________________________________________\n"
     ]
    }
   ],
   "source": [
    "#Defining model with Dropout Layers\n",
    "model = keras.Sequential()\n",
    "#Conv 1\n",
    "model.add(keras.layers.Conv2D(filters=32, kernel_size=(3, 3),\n",
    "                              activation=\"relu\", input_shape=(32, 32, 3), padding='same'))\n",
    "#Conv2\n",
    "model.add(keras.layers.Conv2D(filters=32, kernel_size=(3, 3), \n",
    "                              activation=\"relu\"))\n",
    "#maxPool\n",
    "model.add(keras.layers.MaxPool2D(pool_size=(2, 2)))\n",
    "model.add(keras.layers.Dropout(rate=0.25))\n",
    "#-----------------------#\n",
    "#ADD NEW LAYERS\n",
    "#Conv 3\n",
    "model.add(keras.layers.Conv2D(filters=32, kernel_size=(3, 3),\n",
    "                              activation=\"relu\", padding='same'))\n",
    "#Conv 4\n",
    "model.add(keras.layers.Conv2D(filters=32, kernel_size=(3, 3), \n",
    "                              activation=\"relu\"))\n",
    "#maxPool 2\n",
    "model.add(keras.layers.MaxPool2D(pool_size=(2, 2)))\n",
    "model.add(keras.layers.Dropout(rate=0.25))\n",
    "\n",
    "#-----------------------#\n",
    "#Flattening \n",
    "model.add(keras.layers.Flatten())\n",
    "\n",
    "#fullDense\n",
    "model.add(keras.layers.Dense(512, activation=\"relu\")) \n",
    "model.add(keras.layers.Dropout(rate=0.5))\n",
    "\n",
    "#outputlayer\n",
    "model.add(keras.layers.Dense(10, activation=\"softmax\")) \n",
    "\n",
    "#Compile the Model:\n",
    "model.compile(loss='categorical_crossentropy',\n",
    "       optimizer=keras.optimizers.RMSprop(lr=0.0001, decay=1e-6), metrics='accuracy')\n",
    "\n",
    "model.summary()"
   ]
  },
  {
   "cell_type": "markdown",
   "metadata": {},
   "source": [
    "### Parameters (example to first layer)\n",
    "#### Kernel (3x3 = 9)\n",
    "#### Filters (32)\n",
    "#### Bias (32 because if 1 for each filter)\n",
    "\n",
    "9 * 32 + 32 = 896"
   ]
  },
  {
   "cell_type": "code",
   "execution_count": 13,
   "metadata": {},
   "outputs": [
    {
     "name": "stdout",
     "output_type": "stream",
     "text": [
      "Epoch 1/20\n",
      "1563/1563 [==============================] - 91s 52ms/step - loss: 2.0749 - accuracy: 0.2268 - val_loss: 1.6777 - val_accuracy: 0.3967\n",
      "Epoch 2/20\n",
      "1563/1563 [==============================] - 80s 51ms/step - loss: 1.6146 - accuracy: 0.4107 - val_loss: 1.4275 - val_accuracy: 0.4826\n",
      "Epoch 3/20\n",
      "1563/1563 [==============================] - 82s 53ms/step - loss: 1.4820 - accuracy: 0.4606 - val_loss: 1.3799 - val_accuracy: 0.4987\n",
      "Epoch 4/20\n",
      "1563/1563 [==============================] - 83s 53ms/step - loss: 1.3820 - accuracy: 0.5031 - val_loss: 1.2863 - val_accuracy: 0.5380\n",
      "Epoch 5/20\n",
      "1563/1563 [==============================] - 83s 53ms/step - loss: 1.3216 - accuracy: 0.5291 - val_loss: 1.2878 - val_accuracy: 0.5521\n",
      "Epoch 6/20\n",
      "1563/1563 [==============================] - 86s 55ms/step - loss: 1.2543 - accuracy: 0.5537 - val_loss: 1.1515 - val_accuracy: 0.5940\n",
      "Epoch 7/20\n",
      "1563/1563 [==============================] - 85s 54ms/step - loss: 1.2061 - accuracy: 0.5688 - val_loss: 1.1327 - val_accuracy: 0.5979\n",
      "Epoch 8/20\n",
      "1563/1563 [==============================] - 90s 58ms/step - loss: 1.1662 - accuracy: 0.5820 - val_loss: 1.0610 - val_accuracy: 0.6304\n",
      "Epoch 9/20\n",
      "1563/1563 [==============================] - 96s 61ms/step - loss: 1.1231 - accuracy: 0.6041 - val_loss: 1.0250 - val_accuracy: 0.6366\n",
      "Epoch 10/20\n",
      "1563/1563 [==============================] - 104s 67ms/step - loss: 1.0761 - accuracy: 0.6229 - val_loss: 1.0052 - val_accuracy: 0.6490\n",
      "Epoch 11/20\n",
      "1563/1563 [==============================] - 117s 75ms/step - loss: 1.0557 - accuracy: 0.6297 - val_loss: 0.9745 - val_accuracy: 0.6593\n",
      "Epoch 12/20\n",
      "1563/1563 [==============================] - 126s 80ms/step - loss: 1.0121 - accuracy: 0.6410 - val_loss: 0.9377 - val_accuracy: 0.6688\n",
      "Epoch 13/20\n",
      "1563/1563 [==============================] - 129s 83ms/step - loss: 0.9990 - accuracy: 0.6513 - val_loss: 0.9399 - val_accuracy: 0.6685\n",
      "Epoch 14/20\n",
      "1563/1563 [==============================] - 143s 92ms/step - loss: 0.9866 - accuracy: 0.6515 - val_loss: 0.9037 - val_accuracy: 0.6817\n",
      "Epoch 15/20\n",
      "1563/1563 [==============================] - 153s 98ms/step - loss: 0.9578 - accuracy: 0.6596 - val_loss: 0.8904 - val_accuracy: 0.6873\n",
      "Epoch 16/20\n",
      "1563/1563 [==============================] - 164s 105ms/step - loss: 0.9387 - accuracy: 0.6708 - val_loss: 0.8745 - val_accuracy: 0.6928\n",
      "Epoch 17/20\n",
      "1563/1563 [==============================] - 175s 112ms/step - loss: 0.9102 - accuracy: 0.6818 - val_loss: 0.8944 - val_accuracy: 0.6863\n",
      "Epoch 18/20\n",
      "1563/1563 [==============================] - 182s 116ms/step - loss: 0.9002 - accuracy: 0.6840 - val_loss: 0.8619 - val_accuracy: 0.6997\n",
      "Epoch 19/20\n",
      "1563/1563 [==============================] - 187s 120ms/step - loss: 0.8826 - accuracy: 0.6912 - val_loss: 0.8235 - val_accuracy: 0.7141\n",
      "Epoch 20/20\n",
      "1563/1563 [==============================] - 206s 132ms/step - loss: 0.8704 - accuracy: 0.6989 - val_loss: 0.8346 - val_accuracy: 0.7071\n"
     ]
    }
   ],
   "source": [
    "# Fit the model\n",
    "history = model.fit(x_train, y_train, batch_size=32, \n",
    "                    epochs=20, verbose=1, validation_data=(x_test, y_test), shuffle=True)"
   ]
  },
  {
   "cell_type": "code",
   "execution_count": 14,
   "metadata": {},
   "outputs": [
    {
     "name": "stdout",
     "output_type": "stream",
     "text": [
      "INFO:tensorflow:Assets written to: model_objects\\assets\n"
     ]
    }
   ],
   "source": [
    "#Save model to disk\n",
    "model.save('model_objects')"
   ]
  },
  {
   "cell_type": "code",
   "execution_count": 20,
   "metadata": {},
   "outputs": [
    {
     "data": {
      "text/plain": [
       "<tensorflow.python.keras.engine.sequential.Sequential at 0x2562d2fdeb0>"
      ]
     },
     "execution_count": 20,
     "metadata": {},
     "output_type": "execute_result"
    }
   ],
   "source": [
    "#load model = > uncoment to run! :)\n",
    "#model = keras.models.load_model('model_objects')\n",
    "#model"
   ]
  },
  {
   "cell_type": "markdown",
   "metadata": {},
   "source": [
    "## Question 17:\n",
    "Plot the training history and show it to your teacher (Question 17, 2 points)"
   ]
  },
  {
   "cell_type": "code",
   "execution_count": 15,
   "metadata": {},
   "outputs": [
    {
     "data": {
      "text/plain": [
       "<matplotlib.legend.Legend at 0x209e7923070>"
      ]
     },
     "execution_count": 15,
     "metadata": {},
     "output_type": "execute_result"
    },
    {
     "data": {
      "image/png": "[encoded data removed]",
      "text/plain": [
       "<Figure size 720x360 with 2 Axes>"
      ]
     },
     "metadata": {
      "needs_background": "light"
     },
     "output_type": "display_data"
    }
   ],
   "source": [
    "#Accuracy\n",
    "fig, [ax,ax1] = plt.subplots(figsize=(10,5),nrows=1,ncols=2)\n",
    "plt.title('model accuracy')\n",
    "ax.plot(history.history['accuracy'], label = 'accuracy')\n",
    "ax.plot(history.history['val_accuracy'], label = 'val_accuracy')\n",
    "ax.legend()\n",
    "plt.title('model Loss')\n",
    "ax1.plot(history.history['loss'], label = 'loss')\n",
    "ax1.plot(history.history['val_loss'], label = 'val_loss')\n",
    "ax1.legend()"
   ]
  },
  {
   "cell_type": "markdown",
   "metadata": {},
   "source": [
    "## Question 18:\n",
    "Discuss with your group, then describe to your teacher, how the training history\n",
    "differs from the convolutional model for digit recognition and why. (Question 18, 5\n",
    "points)"
   ]
  },
  {
   "cell_type": "markdown",
   "metadata": {},
   "source": [
    "The model is more complex, with 2 layers of convolutions (4 if we consider 2 conv x 2 sub conv). It by itself turn the model slower than before. Contribution to this we have now 3D array of image, so basicaly we come from 784 to 3072 (32x32x3) input size, it turns the model slower. "
   ]
  },
  {
   "cell_type": "markdown",
   "metadata": {},
   "source": [
    "The model is a lot more complex with added layers and dropouts, with 2 layers of convolutions (4 if we consider 2 conv x 2 sub conv). It by itself turn the model slower than before. Contribution to this we have now 3D array of image, so basicaly we come from 784 to 3072 (32x32x3) input size, it turns the model slower. Epochs before was 6, now we have 20 epochs. \n",
    "\n",
    "Another big change is the difference in learning rate as this model uses a learning rate of 0.001 while the previous model used a lr of 1 and therefore made a lot bigger changes. As one can see in the plot above, the accuracy of the model doesn't jump as high after the first epoch but continues to improve due to the smaller learning rate. The test accuracy is higher than the training accuracy but both are still rather low."
   ]
  },
  {
   "cell_type": "markdown",
   "metadata": {},
   "source": [
    "## Question 19: \n",
    "Discuss with your group, then describe to your teacher, how the time taken for each\n",
    "training epoch differs from the convolutional model for digit recognition. Give several\n",
    "factors that may contribute to this difference (Question 19, 4 points)"
   ]
  },
  {
   "cell_type": "markdown",
   "metadata": {},
   "source": [
    "It took a lot longer for each epoch to run as the model is much more complex and includes more layers.\n",
    "This might be due to:\n",
    "\n",
    "- number of layers in the model (from 1 to 2)\n",
    "- optimizer\n",
    "- input size (from 784,1) to (32,32,3)\n",
    "- batch size (from 128 to 32)\n",
    "- epochs (total time differs not time by epoch)\n",
    "\n",
    "Model_digit_recognition:\n",
    "*Adadelta*: Instead of accumulating all previously squared gradients, Adadelta limits the window of accumulated past gradients to some fixed size w. In this exponentially moving average is used rather than the sum of all the gradients.\n",
    "\n",
    "Model_object_recognition:\n",
    "*RMSprop*: The centered version additionally maintains a moving average of the gradients, and uses that average to estimate the variance."
   ]
  },
  {
   "cell_type": "code",
   "execution_count": null,
   "metadata": {},
   "outputs": [],
   "source": []
  }
 ],
 "metadata": {
  "kernelspec": {
   "display_name": "Python 3",
   "language": "python",
   "name": "python3"
  },
  "language_info": {
   "codemirror_mode": {
    "name": "ipython",
    "version": 3
   },
   "file_extension": ".py",
   "mimetype": "text/x-python",
   "name": "python",
   "nbconvert_exporter": "python",
   "pygments_lexer": "ipython3",
   "version": "3.8.3"
  }
 },
 "nbformat": 4,
 "nbformat_minor": 4
}
