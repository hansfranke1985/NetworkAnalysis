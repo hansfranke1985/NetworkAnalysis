{
 "cells": [
  {
   "cell_type": "code",
   "execution_count": 3,
   "metadata": {},
   "outputs": [],
   "source": [
    "import tensorflow as tf\n",
    "import keras\n",
    "import pandas as pd\n",
    "import numpy as np\n",
    "import matplotlib.pyplot as plt\n",
    "from keras.preprocessing.image import ImageDataGenerator #preprocessing images"
   ]
  },
  {
   "cell_type": "code",
   "execution_count": 17,
   "metadata": {},
   "outputs": [
    {
     "name": "stdout",
     "output_type": "stream",
     "text": [
      "[name: \"/device:CPU:0\"\n",
      "device_type: \"CPU\"\n",
      "memory_limit: 268435456\n",
      "locality {\n",
      "}\n",
      "incarnation: 1199704237062888750\n",
      ", name: \"/device:GPU:0\"\n",
      "device_type: \"GPU\"\n",
      "memory_limit: 6959755424\n",
      "locality {\n",
      "  bus_id: 1\n",
      "  links {\n",
      "  }\n",
      "}\n",
      "incarnation: 2742569039176040341\n",
      "physical_device_desc: \"device: 0, name: GeForce RTX 2070 with Max-Q Design, pci bus id: 0000:01:00.0, compute capability: 7.5\"\n",
      "]\n"
     ]
    }
   ],
   "source": [
    "from tensorflow.python.client import device_lib\n",
    "print(device_lib.list_local_devices())"
   ]
  },
  {
   "cell_type": "markdown",
   "metadata": {},
   "source": [
    "Identifying objects from images with a high variation in object position, size and\n",
    "viewing angle is a particularly difficult problem, and a major application of artificial\n",
    "deep learning networks. Here we will build a network to do this.\n",
    "\n",
    "This network has\n",
    "more layers and is more computationally-intensive than previous exercises, even\n",
    "using the low-resolution images we will use here.\n",
    "The CIFAR-10 dataset contains colour images of objects, each 32x32x3 pixels (for\n",
    "the three colour channels). These have 10 categories (or classes) of object (airplane,\n",
    "automobile, bird, cat, deer, dog, frog, horse, ship & truck) with 5,000 images in each,\n",
    "making a total of 50,000 images in the training set (x_train, y_train), randomly\n",
    "ordered with numerical labels for each (1=airplane, 2=automobile etc.). The test set\n",
    "(x_test, y_test) contains 10,000 images ordered by their label."
   ]
  },
  {
   "cell_type": "code",
   "execution_count": 21,
   "metadata": {},
   "outputs": [],
   "source": [
    "#Download the dataset\n",
    "#(x_train, y_train), (x_test, y_test) = keras.datasets.cifar10.load_data() "
   ]
  },
  {
   "cell_type": "code",
   "execution_count": 18,
   "metadata": {},
   "outputs": [],
   "source": [
    "#Save to disk (avoid the need of download one more time.. ~23 min :( ) Uncoment to save again, in case of step above used!\n",
    "#np.save('x_train', x_train)\n",
    "#np.save('y_train', y_train)\n",
    "#np.save('x_test', x_test)\n",
    "#np.save('y_test', y_test)"
   ]
  },
  {
   "cell_type": "code",
   "execution_count": 4,
   "metadata": {},
   "outputs": [],
   "source": [
    "#load Files\n",
    "x_train = np.load('x_train.npy')\n",
    "x_test = np.load('x_test.npy')\n",
    "y_train = np.load('y_train.npy')\n",
    "y_test = np.load('y_test.npy')"
   ]
  },
  {
   "cell_type": "code",
   "execution_count": 5,
   "metadata": {},
   "outputs": [],
   "source": [
    "#scale the data\n",
    "x_train = x_train / 255\n",
    "x_test = x_test / 255\n"
   ]
  },
  {
   "cell_type": "code",
   "execution_count": 6,
   "metadata": {},
   "outputs": [],
   "source": [
    "#Categorical Variables\n",
    "y_train = keras.utils.to_categorical(y_train, 10)\n",
    "y_test = keras.utils.to_categorical(y_test, 10)\n"
   ]
  },
  {
   "cell_type": "markdown",
   "metadata": {},
   "source": [
    "## Question 16:\n",
    "Before fitting the model, show your teacher the code you used to define the model\n",
    "described here. (Question 16, 6 points)"
   ]
  },
  {
   "cell_type": "code",
   "execution_count": 7,
   "metadata": {},
   "outputs": [
    {
     "name": "stdout",
     "output_type": "stream",
     "text": [
      "Model: \"sequential\"\n",
      "_________________________________________________________________\n",
      "Layer (type)                 Output Shape              Param #   \n",
      "=================================================================\n",
      "conv2d (Conv2D)              (None, 32, 32, 32)        896       \n",
      "_________________________________________________________________\n",
      "conv2d_1 (Conv2D)            (None, 30, 30, 32)        9248      \n",
      "_________________________________________________________________\n",
      "max_pooling2d (MaxPooling2D) (None, 15, 15, 32)        0         \n",
      "_________________________________________________________________\n",
      "dropout (Dropout)            (None, 15, 15, 32)        0         \n",
      "_________________________________________________________________\n",
      "conv2d_2 (Conv2D)            (None, 15, 15, 32)        9248      \n",
      "_________________________________________________________________\n",
      "conv2d_3 (Conv2D)            (None, 13, 13, 32)        9248      \n",
      "_________________________________________________________________\n",
      "max_pooling2d_1 (MaxPooling2 (None, 6, 6, 32)          0         \n",
      "_________________________________________________________________\n",
      "dropout_1 (Dropout)          (None, 6, 6, 32)          0         \n",
      "_________________________________________________________________\n",
      "flatten (Flatten)            (None, 1152)              0         \n",
      "_________________________________________________________________\n",
      "dense (Dense)                (None, 512)               590336    \n",
      "_________________________________________________________________\n",
      "dropout_2 (Dropout)          (None, 512)               0         \n",
      "_________________________________________________________________\n",
      "dense_1 (Dense)              (None, 10)                5130      \n",
      "=================================================================\n",
      "Total params: 624,106\n",
      "Trainable params: 624,106\n",
      "Non-trainable params: 0\n",
      "_________________________________________________________________\n"
     ]
    }
   ],
   "source": [
    "#Defining model with Dropout Layers\n",
    "model = keras.Sequential()\n",
    "#Conv 1\n",
    "model.add(keras.layers.Conv2D(filters=32, kernel_size=(3, 3),\n",
    "                              activation=\"relu\", input_shape=(32, 32, 3), padding='same'))\n",
    "#Conv2\n",
    "model.add(keras.layers.Conv2D(filters=32, kernel_size=(3, 3), \n",
    "                              activation=\"relu\"))\n",
    "#maxPool\n",
    "model.add(keras.layers.MaxPool2D(pool_size=(2, 2)))\n",
    "model.add(keras.layers.Dropout(rate=0.25))\n",
    "#-----------------------#\n",
    "#ADD NEW LAYERS\n",
    "#Conv 3\n",
    "model.add(keras.layers.Conv2D(filters=32, kernel_size=(3, 3),\n",
    "                              activation=\"relu\", padding='same'))\n",
    "#Conv 4\n",
    "model.add(keras.layers.Conv2D(filters=32, kernel_size=(3, 3), \n",
    "                              activation=\"relu\"))\n",
    "#maxPool 2\n",
    "model.add(keras.layers.MaxPool2D(pool_size=(2, 2)))\n",
    "model.add(keras.layers.Dropout(rate=0.25))\n",
    "\n",
    "#-----------------------#\n",
    "#Flattening \n",
    "model.add(keras.layers.Flatten())\n",
    "\n",
    "#fullDense\n",
    "model.add(keras.layers.Dense(512, activation=\"relu\")) \n",
    "model.add(keras.layers.Dropout(rate=0.5))\n",
    "\n",
    "#outputlayer\n",
    "model.add(keras.layers.Dense(10, activation=\"softmax\")) \n",
    "\n",
    "#Compile the Model:\n",
    "model.compile(loss='categorical_crossentropy',\n",
    "       optimizer=keras.optimizers.RMSprop(lr=0.0001, decay=1e-6), metrics='accuracy')\n",
    "\n",
    "model.summary()"
   ]
  },
  {
   "cell_type": "code",
   "execution_count": 9,
   "metadata": {},
   "outputs": [
    {
     "name": "stdout",
     "output_type": "stream",
     "text": [
      "Epoch 1/20\n",
      "1563/1563 [==============================] - 15s 10ms/step - loss: 1.5852 - accuracy: 0.4236 - val_loss: 1.4548 - val_accuracy: 0.4764\n",
      "Epoch 2/20\n",
      "1563/1563 [==============================] - 15s 9ms/step - loss: 1.4570 - accuracy: 0.4695 - val_loss: 1.3658 - val_accuracy: 0.5185\n",
      "Epoch 3/20\n",
      "1563/1563 [==============================] - 15s 10ms/step - loss: 1.3635 - accuracy: 0.5092 - val_loss: 1.2404 - val_accuracy: 0.5612\n",
      "Epoch 4/20\n",
      "1563/1563 [==============================] - 15s 9ms/step - loss: 1.3013 - accuracy: 0.5348 - val_loss: 1.2187 - val_accuracy: 0.5644\n",
      "Epoch 5/20\n",
      "1563/1563 [==============================] - 17s 11ms/step - loss: 1.2445 - accuracy: 0.5580 - val_loss: 1.1521 - val_accuracy: 0.5923\n",
      "Epoch 6/20\n",
      "1563/1563 [==============================] - 16s 11ms/step - loss: 1.1914 - accuracy: 0.5784 - val_loss: 1.0946 - val_accuracy: 0.6187\n",
      "Epoch 7/20\n",
      "1563/1563 [==============================] - 17s 11ms/step - loss: 1.1496 - accuracy: 0.5934 - val_loss: 1.0537 - val_accuracy: 0.6331\n",
      "Epoch 8/20\n",
      "1563/1563 [==============================] - 16s 10ms/step - loss: 1.1123 - accuracy: 0.6084 - val_loss: 1.0164 - val_accuracy: 0.6418\n",
      "Epoch 9/20\n",
      "1563/1563 [==============================] - 16s 11ms/step - loss: 1.0756 - accuracy: 0.6232 - val_loss: 0.9912 - val_accuracy: 0.6543\n",
      "Epoch 10/20\n",
      "1563/1563 [==============================] - 17s 11ms/step - loss: 1.0443 - accuracy: 0.6316 - val_loss: 0.9842 - val_accuracy: 0.6561\n",
      "Epoch 11/20\n",
      "1563/1563 [==============================] - 17s 11ms/step - loss: 1.0148 - accuracy: 0.6428 - val_loss: 0.9647 - val_accuracy: 0.6640\n",
      "Epoch 12/20\n",
      "1563/1563 [==============================] - 17s 11ms/step - loss: 0.9938 - accuracy: 0.6516 - val_loss: 0.9193 - val_accuracy: 0.6786\n",
      "Epoch 13/20\n",
      "1563/1563 [==============================] - 18s 12ms/step - loss: 0.9706 - accuracy: 0.6605 - val_loss: 0.9176 - val_accuracy: 0.6769\n",
      "Epoch 14/20\n",
      "1563/1563 [==============================] - 18s 11ms/step - loss: 0.9502 - accuracy: 0.6662 - val_loss: 0.8975 - val_accuracy: 0.6904\n",
      "Epoch 15/20\n",
      "1563/1563 [==============================] - 18s 12ms/step - loss: 0.9274 - accuracy: 0.6740 - val_loss: 0.8806 - val_accuracy: 0.6948\n",
      "Epoch 16/20\n",
      "1563/1563 [==============================] - 19s 12ms/step - loss: 0.9108 - accuracy: 0.6818 - val_loss: 0.8578 - val_accuracy: 0.7044\n",
      "Epoch 17/20\n",
      "1563/1563 [==============================] - 21s 14ms/step - loss: 0.8995 - accuracy: 0.6848 - val_loss: 0.8413 - val_accuracy: 0.7123\n",
      "Epoch 18/20\n",
      "1563/1563 [==============================] - 54s 34ms/step - loss: 0.8876 - accuracy: 0.6907 - val_loss: 0.8350 - val_accuracy: 0.7119\n",
      "Epoch 19/20\n",
      "1563/1563 [==============================] - 87s 56ms/step - loss: 0.8717 - accuracy: 0.6959 - val_loss: 0.8213 - val_accuracy: 0.7188\n",
      "Epoch 20/20\n",
      "1563/1563 [==============================] - 99s 64ms/step - loss: 0.8634 - accuracy: 0.6988 - val_loss: 0.8372 - val_accuracy: 0.7114\n"
     ]
    }
   ],
   "source": [
    "# Fit the model\n",
    "history = model.fit(x_train, y_train, batch_size=32, \n",
    "                    epochs=20, verbose=1, validation_data=(x_test, y_test), shuffle=True)"
   ]
  },
  {
   "cell_type": "code",
   "execution_count": 10,
   "metadata": {},
   "outputs": [
    {
     "name": "stdout",
     "output_type": "stream",
     "text": [
      "INFO:tensorflow:Assets written to: model_objects\\assets\n"
     ]
    }
   ],
   "source": [
    "#Save model to disk\n",
    "model.save('model_objects')"
   ]
  },
  {
   "cell_type": "code",
   "execution_count": 20,
   "metadata": {},
   "outputs": [
    {
     "data": {
      "text/plain": [
       "<tensorflow.python.keras.engine.sequential.Sequential at 0x2562d2fdeb0>"
      ]
     },
     "execution_count": 20,
     "metadata": {},
     "output_type": "execute_result"
    }
   ],
   "source": [
    "#load model = > uncoment to run! :)\n",
    "#model = keras.models.load_model('model_objects')\n",
    "#model"
   ]
  },
  {
   "cell_type": "markdown",
   "metadata": {},
   "source": [
    "## Question 17:\n",
    "Plot the training history and show it to your teacher (Question 17, 2 points)"
   ]
  },
  {
   "cell_type": "code",
   "execution_count": 16,
   "metadata": {},
   "outputs": [
    {
     "data": {
      "text/plain": [
       "<matplotlib.legend.Legend at 0x28a9ec33be0>"
      ]
     },
     "execution_count": 16,
     "metadata": {},
     "output_type": "execute_result"
    },
    {
     "data": {
      "image/png": "[encoded data removed]",
      "text/plain": [
       "<Figure size 720x360 with 2 Axes>"
      ]
     },
     "metadata": {
      "needs_background": "light"
     },
     "output_type": "display_data"
    }
   ],
   "source": [
    "#Accuracy\n",
    "fig, [ax,ax1] = plt.subplots(figsize=(10,5),nrows=1,ncols=2)\n",
    "plt.title('model accuracy')\n",
    "ax.plot(history.history['accuracy'], label = 'accuracy')\n",
    "ax.plot(history.history['val_accuracy'], label = 'val_accuracy')\n",
    "ax.legend()\n",
    "plt.title('model Loss')\n",
    "ax1.plot(history.history['loss'], label = 'loss')\n",
    "ax1.plot(history.history['val_loss'], label = 'val_loss')\n",
    "ax1.legend()"
   ]
  },
  {
   "cell_type": "markdown",
   "metadata": {},
   "source": [
    "## Question 18:\n",
    "Discuss with your group, then describe to your teacher, how the training history\n",
    "differs from the convolutional model for digit recognition and why. (Question 18, 5\n",
    "points)"
   ]
  },
  {
   "cell_type": "markdown",
   "metadata": {},
   "source": [
    "The model is more complex, with 2 layers of convolutions (4 if we consider 2 conv x 2 sub conv). It by itself turn the model slower than before. Contribution to this we have now 3D array of image, so basicaly we come from 784 to 3072 (32x32x3) input size, it turns the model slower. "
   ]
  },
  {
   "cell_type": "markdown",
   "metadata": {},
   "source": [
    "## Question 19: \n",
    "Discuss with your group, then describe to your teacher, how the time taken for each\n",
    "training epoch differs from the convolutional model for digit recognition. Give several\n",
    "factors that may contribute to this difference (Question 19, 4 points)"
   ]
  },
  {
   "cell_type": "code",
   "execution_count": 18,
   "metadata": {},
   "outputs": [],
   "source": []
  },
  {
   "cell_type": "code",
   "execution_count": null,
   "metadata": {},
   "outputs": [],
   "source": []
  }
 ],
 "metadata": {
  "kernelspec": {
   "display_name": "Python 3",
   "language": "python",
   "name": "python3"
  },
  "language_info": {
   "codemirror_mode": {
    "name": "ipython",
    "version": 3
   },
   "file_extension": ".py",
   "mimetype": "text/x-python",
   "name": "python",
   "nbconvert_exporter": "python",
   "pygments_lexer": "ipython3",
   "version": "3.8.3"
  }
 },
 "nbformat": 4,
 "nbformat_minor": 4
}
