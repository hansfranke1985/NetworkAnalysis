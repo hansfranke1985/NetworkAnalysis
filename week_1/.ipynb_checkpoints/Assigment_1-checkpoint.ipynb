{
 "cells": [
  {
   "cell_type": "markdown",
   "metadata": {},
   "source": [
    "# Lab assignment 1: Image recognition using deep networks\n",
    "## Ben Harvey"
   ]
  },
  {
   "cell_type": "code",
   "execution_count": 54,
   "metadata": {},
   "outputs": [],
   "source": [
    "import tensorflow as tf\n",
    "import keras\n",
    "import pandas as pd\n",
    "import numpy as np\n",
    "import matplotlib.pyplot as plt\n",
    "from keras.preprocessing.image import ImageDataGenerator #preprocessing images"
   ]
  },
  {
   "cell_type": "code",
   "execution_count": 112,
   "metadata": {},
   "outputs": [
    {
     "data": {
      "text/plain": [
       "'2.3.1'"
      ]
     },
     "execution_count": 112,
     "metadata": {},
     "output_type": "execute_result"
    }
   ],
   "source": [
    "tf.__version__"
   ]
  },
  {
   "cell_type": "code",
   "execution_count": 2,
   "metadata": {},
   "outputs": [
    {
     "name": "stdout",
     "output_type": "stream",
     "text": [
      "Device mapping:\n",
      "/job:localhost/replica:0/task:0/device:XLA_CPU:0 -> device: XLA_CPU device\n",
      "/job:localhost/replica:0/task:0/device:XLA_GPU:0 -> device: XLA_GPU device\n",
      "\n"
     ]
    },
    {
     "data": {
      "text/plain": [
       "<tensorflow.python.client.session.Session at 0x193552db1f0>"
      ]
     },
     "execution_count": 2,
     "metadata": {},
     "output_type": "execute_result"
    }
   ],
   "source": [
    "sess = tf.compat.v1.Session(config=tf.compat.v1.ConfigProto(log_device_placement=True))\n",
    "sess"
   ]
  },
  {
   "cell_type": "code",
   "execution_count": 3,
   "metadata": {},
   "outputs": [
    {
     "name": "stdout",
     "output_type": "stream",
     "text": [
      "[name: \"/device:CPU:0\"\n",
      "device_type: \"CPU\"\n",
      "memory_limit: 268435456\n",
      "locality {\n",
      "}\n",
      "incarnation: 7073811418593055255\n",
      ", name: \"/device:XLA_CPU:0\"\n",
      "device_type: \"XLA_CPU\"\n",
      "memory_limit: 17179869184\n",
      "locality {\n",
      "}\n",
      "incarnation: 10262896144425735089\n",
      "physical_device_desc: \"device: XLA_CPU device\"\n",
      ", name: \"/device:XLA_GPU:0\"\n",
      "device_type: \"XLA_GPU\"\n",
      "memory_limit: 17179869184\n",
      "locality {\n",
      "}\n",
      "incarnation: 8360592425410274852\n",
      "physical_device_desc: \"device: XLA_GPU device\"\n",
      "]\n"
     ]
    }
   ],
   "source": [
    "from tensorflow.python.client import device_lib\n",
    "print(device_lib.list_local_devices())"
   ]
  },
  {
   "cell_type": "markdown",
   "metadata": {},
   "source": [
    "# Exercise one: Identifying handwritten numbers"
   ]
  },
  {
   "cell_type": "markdown",
   "metadata": {},
   "source": [
    "### Question 1:\n",
    "Discuss with your group, then describe to your teacher, a list of applications where automatic recognition of hand-written numbers would be useful. (Question 1, 3 points)"
   ]
  },
  {
   "cell_type": "markdown",
   "metadata": {},
   "source": [
    "**Answer:**\n",
    "1. Fraud detection: paycheck in banks for example \n",
    "2. Digital scanner: recognition of text (physical) and transform to digital media (.doc .pdf ..) -> same principle of digits but for letters.\n",
    "\n"
   ]
  },
  {
   "cell_type": "markdown",
   "metadata": {},
   "source": [
    "## Data Preparation "
   ]
  },
  {
   "cell_type": "code",
   "execution_count": 128,
   "metadata": {},
   "outputs": [],
   "source": [
    "#Load dataset MNIST (labelled handwritten numbers)\n",
    "(x_train, y_train), (x_test, y_test) = keras.datasets.mnist.load_data()"
   ]
  },
  {
   "cell_type": "code",
   "execution_count": 129,
   "metadata": {},
   "outputs": [
    {
     "name": "stdout",
     "output_type": "stream",
     "text": [
      "(60000, 28, 28)\n",
      "(10000, 28, 28)\n"
     ]
    }
   ],
   "source": [
    "#size and shape of training set / test set\n",
    "print((x_train.shape))\n",
    "print((x_test.shape))"
   ]
  },
  {
   "cell_type": "code",
   "execution_count": 130,
   "metadata": {},
   "outputs": [
    {
     "name": "stdout",
     "output_type": "stream",
     "text": [
      "(60000, 784)\n",
      "(10000, 784)\n"
     ]
    }
   ],
   "source": [
    "#Reshape (from 60000x28x28 to 60000x784)\n",
    "x_train = np.reshape(x_train, (60000,784))\n",
    "x_test = np.reshape(x_test, (10000,784))\n",
    "print((x_train.shape))\n",
    "print((x_test.shape))"
   ]
  },
  {
   "cell_type": "code",
   "execution_count": 131,
   "metadata": {},
   "outputs": [],
   "source": [
    "#Rescale (valuews <0,1>)\n",
    "x_train = x_train / 255 #0 = black = 255 = white\n",
    "x_test = x_test / 255"
   ]
  },
  {
   "cell_type": "code",
   "execution_count": 132,
   "metadata": {},
   "outputs": [
    {
     "data": {
      "text/plain": [
       "array([5, 0, 4, ..., 5, 6, 8], dtype=uint8)"
      ]
     },
     "execution_count": 132,
     "metadata": {},
     "output_type": "execute_result"
    }
   ],
   "source": [
    "y_train"
   ]
  },
  {
   "cell_type": "code",
   "execution_count": 133,
   "metadata": {},
   "outputs": [
    {
     "name": "stdout",
     "output_type": "stream",
     "text": [
      "[1. 0. 0. 0. 0. 0. 0. 0. 0. 0.]\n",
      "[0. 0. 1. 0. 0. 0. 0. 0. 0. 0.]\n"
     ]
    }
   ],
   "source": [
    "#labeling\n",
    "y_train = keras.utils.to_categorical(y_train, 10)\n",
    "y_test = keras.utils.to_categorical(y_test, 10)\n",
    "print(y_train[1])\n",
    "print(y_test[1])\n"
   ]
  },
  {
   "cell_type": "markdown",
   "metadata": {},
   "source": [
    "## Model Definition"
   ]
  },
  {
   "cell_type": "code",
   "execution_count": 134,
   "metadata": {},
   "outputs": [
    {
     "name": "stdout",
     "output_type": "stream",
     "text": [
      "Model: \"sequential_7\"\n",
      "_________________________________________________________________\n",
      "Layer (type)                 Output Shape              Param #   \n",
      "=================================================================\n",
      "dense_14 (Dense)             (None, 256)               200960    \n",
      "_________________________________________________________________\n",
      "dense_15 (Dense)             (None, 10)                2570      \n",
      "=================================================================\n",
      "Total params: 203,530\n",
      "Trainable params: 203,530\n",
      "Non-trainable params: 0\n",
      "_________________________________________________________________\n"
     ]
    }
   ],
   "source": [
    "model = keras.Sequential()\n",
    "model.add(keras.layers.Dense(256, input_shape=(784,)))\n",
    "model.add(keras.layers.Dense(10, activation='softmax'))\n",
    "model.summary()"
   ]
  },
  {
   "cell_type": "code",
   "execution_count": 136,
   "metadata": {},
   "outputs": [],
   "source": [
    "model.compile(loss='categorical_crossentropy',\n",
    "    optimizer=keras.optimizers.RMSprop(), metrics='accuracy')\n"
   ]
  },
  {
   "cell_type": "markdown",
   "metadata": {},
   "source": [
    "## Training and Evaluation"
   ]
  },
  {
   "cell_type": "code",
   "execution_count": 138,
   "metadata": {},
   "outputs": [
    {
     "name": "stdout",
     "output_type": "stream",
     "text": [
      "Epoch 1/12\n",
      "375/375 [==============================] - 1s 2ms/step - loss: 0.2636 - accuracy: 0.9260 - val_loss: 0.2832 - val_accuracy: 0.9243\n",
      "Epoch 2/12\n",
      "375/375 [==============================] - 1s 2ms/step - loss: 0.2613 - accuracy: 0.9270 - val_loss: 0.2783 - val_accuracy: 0.9258\n",
      "Epoch 3/12\n",
      "375/375 [==============================] - 1s 2ms/step - loss: 0.2596 - accuracy: 0.9279 - val_loss: 0.2763 - val_accuracy: 0.9275\n",
      "Epoch 4/12\n",
      "375/375 [==============================] - 1s 2ms/step - loss: 0.2594 - accuracy: 0.9282 - val_loss: 0.2797 - val_accuracy: 0.9261\n",
      "Epoch 5/12\n",
      "375/375 [==============================] - 1s 2ms/step - loss: 0.2577 - accuracy: 0.9282 - val_loss: 0.2828 - val_accuracy: 0.9217\n",
      "Epoch 6/12\n",
      "375/375 [==============================] - 1s 1ms/step - loss: 0.2573 - accuracy: 0.9280 - val_loss: 0.2709 - val_accuracy: 0.9267\n",
      "Epoch 7/12\n",
      "375/375 [==============================] - 1s 2ms/step - loss: 0.2567 - accuracy: 0.9276 - val_loss: 0.2767 - val_accuracy: 0.9263\n",
      "Epoch 8/12\n",
      "375/375 [==============================] - 1s 2ms/step - loss: 0.2556 - accuracy: 0.9285 - val_loss: 0.2719 - val_accuracy: 0.9292\n",
      "Epoch 9/12\n",
      "375/375 [==============================] - 1s 2ms/step - loss: 0.2546 - accuracy: 0.9290 - val_loss: 0.2846 - val_accuracy: 0.9249\n",
      "Epoch 10/12\n",
      "375/375 [==============================] - 1s 2ms/step - loss: 0.2550 - accuracy: 0.9284 - val_loss: 0.2788 - val_accuracy: 0.9252\n",
      "Epoch 11/12\n",
      "375/375 [==============================] - 1s 2ms/step - loss: 0.2538 - accuracy: 0.9291 - val_loss: 0.2823 - val_accuracy: 0.9237\n",
      "Epoch 12/12\n",
      "375/375 [==============================] - 1s 2ms/step - loss: 0.2533 - accuracy: 0.9285 - val_loss: 0.2747 - val_accuracy: 0.9283\n"
     ]
    }
   ],
   "source": [
    "history = model.fit(x_train, y_train, batch_size=128, \n",
    "                    epochs=12, verbose=1, validation_split=0.2)"
   ]
  },
  {
   "cell_type": "code",
   "execution_count": 139,
   "metadata": {},
   "outputs": [
    {
     "data": {
      "text/plain": [
       "array([[8.1579373e-08, 4.3170315e-16, 3.0373033e-07, ..., 9.9867553e-01,\n",
       "        1.9296876e-06, 3.1070266e-04],\n",
       "       [5.9149629e-06, 2.7783511e-08, 9.9913979e-01, ..., 3.7357218e-23,\n",
       "        5.5789910e-06, 1.9268823e-17],\n",
       "       [3.4909314e-07, 9.9222410e-01, 3.5085627e-03, ..., 6.8495516e-04,\n",
       "        1.7587238e-03, 1.0139421e-04],\n",
       "       ...,\n",
       "       [5.5542698e-10, 3.6720585e-10, 4.8984367e-07, ..., 2.8379125e-04,\n",
       "        2.7686558e-03, 2.2222001e-02],\n",
       "       [3.6423742e-11, 4.3814771e-10, 3.7271031e-10, ..., 6.6734118e-11,\n",
       "        4.5656352e-03, 1.1009577e-08],\n",
       "       [1.1598856e-09, 3.5516383e-16, 7.8640142e-07, ..., 9.2776981e-17,\n",
       "        4.2967169e-10, 6.7949999e-14]], dtype=float32)"
      ]
     },
     "execution_count": 139,
     "metadata": {},
     "output_type": "execute_result"
    }
   ],
   "source": [
    "model.predict(x_test)"
   ]
  },
  {
   "cell_type": "code",
   "execution_count": 140,
   "metadata": {},
   "outputs": [
    {
     "data": {
      "text/plain": [
       "array([[0., 0., 0., ..., 1., 0., 0.],\n",
       "       [0., 0., 1., ..., 0., 0., 0.],\n",
       "       [0., 1., 0., ..., 0., 0., 0.],\n",
       "       ...,\n",
       "       [0., 0., 0., ..., 0., 0., 0.],\n",
       "       [0., 0., 0., ..., 0., 0., 0.],\n",
       "       [0., 0., 0., ..., 0., 0., 0.]], dtype=float32)"
      ]
     },
     "execution_count": 140,
     "metadata": {},
     "output_type": "execute_result"
    }
   ],
   "source": [
    "y_test"
   ]
  },
  {
   "cell_type": "markdown",
   "metadata": {},
   "source": [
    "### Questions 2-6\n",
    "\n",
    "1. Show your teacher the text from your console, with how long it took for each epoch to run and the training performance history. (Question 2, 5 points)\n",
    "2. Plot the training history and show this to your teacher (Question 3, 3 points)\n",
    "3. Discuss with your group, then describe to your teacher, how the accuracy on the training and validation sets progress differently across epochs, and what this tells us about the generalisation of the model. (Question 4, 5 points).\n",
    "4. Evaluate the model performance on the test set using the following command: loss, accuracy = model.evaluate(x_test, y_test, verbose=0) Show your teacher what values you get for the model’s accuracy and loss. (Question 5, 2 points)\n",
    "5. Discuss with your group, then describe to your teacher, whether this accuracy is sufficient for some uses of automatic hand-written digit classification. (Question 6, 5 points) "
   ]
  },
  {
   "cell_type": "code",
   "execution_count": 110,
   "metadata": {},
   "outputs": [
    {
     "name": "stdout",
     "output_type": "stream",
     "text": [
      "dict_keys(['loss', 'accuracy', 'val_loss', 'val_accuracy'])\n"
     ]
    },
    {
     "data": {
      "text/plain": [
       "<matplotlib.legend.Legend at 0x1930f67f730>"
      ]
     },
     "execution_count": 110,
     "metadata": {},
     "output_type": "execute_result"
    },
    {
     "data": {
      "image/png": "[encoded data removed]",
      "text/plain": [
       "<Figure size 432x288 with 1 Axes>"
      ]
     },
     "metadata": {
      "needs_background": "light"
     },
     "output_type": "display_data"
    }
   ],
   "source": [
    "# Question 3:\n",
    "#plot the models\n",
    "print(history.history.keys()) #list the dict keys\n",
    "\n",
    "#Accuracy\n",
    "plt.title('model accuracy')\n",
    "plt.ylabel('accuracy')\n",
    "plt.xlabel('epoch')\n",
    "plt.plot(history.history['accuracy'], label = 'model1')\n",
    "\n",
    "plt.legend()"
   ]
  },
  {
   "cell_type": "markdown",
   "metadata": {},
   "source": [
    "#### Answer"
   ]
  },
  {
   "cell_type": "markdown",
   "metadata": {},
   "source": [
    "Question 4. the progress in training set is greatly improving by each epoch, but the test_set is not so fast, on the other hand is already starts high."
   ]
  },
  {
   "cell_type": "code",
   "execution_count": 108,
   "metadata": {},
   "outputs": [
    {
     "data": {
      "text/plain": [
       "[0.27714982628822327, 0.9244999885559082]"
      ]
     },
     "execution_count": 108,
     "metadata": {},
     "output_type": "execute_result"
    }
   ],
   "source": [
    "#Question 5:\n",
    "#Evaluating the model in test set\n",
    "model.evaluate(x=x_test, y=y_test, verbose=0)\n"
   ]
  },
  {
   "cell_type": "markdown",
   "metadata": {},
   "source": [
    "### Question 6:\n",
    "Image a bank that in 8% of the numbers put different balances on client account? So it is not sufficient"
   ]
  },
  {
   "cell_type": "markdown",
   "metadata": {},
   "source": [
    "### Question 7:\n",
    "Discuss with your group, then describe to your\n",
    "teacher, how linear activation of units limits the possible computations this model can\n",
    "perform. (Question 7, 5 points)"
   ]
  },
  {
   "cell_type": "markdown",
   "metadata": {},
   "source": [
    "A = cx, derivative with respect to x is c. That means, the gradient has no relationship with X. It is a constant gradient and the descent is going to be on constant gradient. If there is an error in prediction, the changes made by back propagation is constant and not depending on the change in input delta(x) !!!\n",
    "This is not that good!. There is another problem too. Think about connected layers. Each layer is activated by a linear function. That activation in turn goes into the next level as input and the second layer calculates weighted sum on that input and it in turn, fires based on another linear activation function. No matter how many layers we have, if all are linear in nature, the final activation function of last layer is nothing but just a linear function of the input of first layer! Pause for a bit and think about it.\n",
    "That means these two layers ( or N layers ) can be replaced by a single layer. Ah! We just lost the ability of stacking layers this way. No matter how we stack, the whole network is still equivalent to a single layer with linear activation ( a combination of linear functions in a linear manner is still another linear function )."
   ]
  },
  {
   "cell_type": "markdown",
   "metadata": {},
   "source": [
    "## Change Model Parameters"
   ]
  },
  {
   "cell_type": "code",
   "execution_count": 37,
   "metadata": {},
   "outputs": [],
   "source": [
    "# Refit with activation funcion RELU (Non-linear)"
   ]
  },
  {
   "cell_type": "code",
   "execution_count": 147,
   "metadata": {},
   "outputs": [
    {
     "name": "stdout",
     "output_type": "stream",
     "text": [
      "Model: \"sequential_13\"\n",
      "_________________________________________________________________\n",
      "Layer (type)                 Output Shape              Param #   \n",
      "=================================================================\n",
      "dense_27 (Dense)             (None, 256)               200960    \n",
      "_________________________________________________________________\n",
      "dense_28 (Dense)             (None, 10)                2570      \n",
      "=================================================================\n",
      "Total params: 203,530\n",
      "Trainable params: 203,530\n",
      "Non-trainable params: 0\n",
      "_________________________________________________________________\n",
      "Epoch 1/12\n",
      "375/375 [==============================] - 1s 2ms/step - loss: 0.3204 - accuracy: 0.9110 - val_loss: 0.1707 - val_accuracy: 0.9517\n",
      "Epoch 2/12\n",
      "375/375 [==============================] - 1s 2ms/step - loss: 0.1449 - accuracy: 0.9581 - val_loss: 0.1245 - val_accuracy: 0.9639\n",
      "Epoch 3/12\n",
      "375/375 [==============================] - 1s 2ms/step - loss: 0.0988 - accuracy: 0.9709 - val_loss: 0.1144 - val_accuracy: 0.9672\n",
      "Epoch 4/12\n",
      "375/375 [==============================] - 1s 2ms/step - loss: 0.0757 - accuracy: 0.9779 - val_loss: 0.0904 - val_accuracy: 0.9728\n",
      "Epoch 5/12\n",
      "375/375 [==============================] - 1s 2ms/step - loss: 0.0592 - accuracy: 0.9833 - val_loss: 0.0865 - val_accuracy: 0.9747\n",
      "Epoch 6/12\n",
      "375/375 [==============================] - 1s 2ms/step - loss: 0.0468 - accuracy: 0.9862 - val_loss: 0.0859 - val_accuracy: 0.9750\n",
      "Epoch 7/12\n",
      "375/375 [==============================] - 1s 2ms/step - loss: 0.0372 - accuracy: 0.9897 - val_loss: 0.0816 - val_accuracy: 0.9766\n",
      "Epoch 8/12\n",
      "375/375 [==============================] - 1s 2ms/step - loss: 0.0300 - accuracy: 0.9920 - val_loss: 0.0849 - val_accuracy: 0.9759\n",
      "Epoch 9/12\n",
      "375/375 [==============================] - 1s 2ms/step - loss: 0.0248 - accuracy: 0.9931 - val_loss: 0.0825 - val_accuracy: 0.9768\n",
      "Epoch 10/12\n",
      "375/375 [==============================] - 1s 2ms/step - loss: 0.0200 - accuracy: 0.9950 - val_loss: 0.0832 - val_accuracy: 0.9772\n",
      "Epoch 11/12\n",
      "375/375 [==============================] - 1s 2ms/step - loss: 0.0164 - accuracy: 0.9956 - val_loss: 0.0895 - val_accuracy: 0.9759\n",
      "Epoch 12/12\n",
      "375/375 [==============================] - 1s 2ms/step - loss: 0.0133 - accuracy: 0.9966 - val_loss: 0.0853 - val_accuracy: 0.9783\n"
     ]
    }
   ],
   "source": [
    "model2 = keras.Sequential()\n",
    "model2.add(keras.layers.Dense(256, input_shape=(784,), activation='relu')) #first hidden layer\n",
    "model2.add(keras.layers.Dense(10, activation='softmax')) #output layer\n",
    "model2.summary()\n",
    "\n",
    "#compile\n",
    "model2.compile(loss='categorical_crossentropy', \n",
    "               optimizer=keras.optimizers.RMSprop(), metrics='accuracy')\n",
    "\n",
    "#fit / trainning\n",
    "history2 = model2.fit(x_train, y_train, batch_size=128, \n",
    "                    epochs=12, verbose=1, validation_split=0.2)\n"
   ]
  },
  {
   "cell_type": "code",
   "execution_count": null,
   "metadata": {},
   "outputs": [],
   "source": []
  },
  {
   "cell_type": "markdown",
   "metadata": {},
   "source": [
    "### Question 8: \n",
    "Plot the training history and show it to your teacher"
   ]
  },
  {
   "cell_type": "code",
   "execution_count": 105,
   "metadata": {},
   "outputs": [
    {
     "name": "stdout",
     "output_type": "stream",
     "text": [
      "dict_keys(['loss', 'accuracy', 'val_loss', 'val_accuracy'])\n"
     ]
    },
    {
     "data": {
      "text/plain": [
       "<matplotlib.legend.Legend at 0x19302880910>"
      ]
     },
     "execution_count": 105,
     "metadata": {},
     "output_type": "execute_result"
    },
    {
     "data": {
      "image/png": "[encoded data removed]",
      "text/plain": [
       "<Figure size 432x288 with 1 Axes>"
      ]
     },
     "metadata": {
      "needs_background": "light"
     },
     "output_type": "display_data"
    }
   ],
   "source": [
    "#plot the models\n",
    "print(history.history.keys()) #list the dict keys\n",
    "\n",
    "#Accuracy\n",
    "plt.title('model accuracy')\n",
    "plt.ylabel('accuracy')\n",
    "plt.xlabel('epoch')\n",
    "plt.plot(history.history['accuracy'], label = 'model1')\n",
    "plt.plot(history2.history['accuracy'], label ='model2')\n",
    "plt.legend()\n",
    "\n"
   ]
  },
  {
   "cell_type": "code",
   "execution_count": 106,
   "metadata": {},
   "outputs": [
    {
     "data": {
      "text/plain": [
       "<matplotlib.legend.Legend at 0x19302c9bcd0>"
      ]
     },
     "execution_count": 106,
     "metadata": {},
     "output_type": "execute_result"
    },
    {
     "data": {
      "image/png": "[encoded data removed]",
      "text/plain": [
       "<Figure size 432x288 with 1 Axes>"
      ]
     },
     "metadata": {
      "needs_background": "light"
     },
     "output_type": "display_data"
    }
   ],
   "source": [
    "#loss\n",
    "plt.title('loss')\n",
    "plt.ylabel('accuracy')\n",
    "plt.xlabel('epoch')\n",
    "plt.plot(history.history['loss'], label = 'model1')\n",
    "plt.plot(history2.history['loss'], label ='model2')\n",
    "plt.legend()"
   ]
  },
  {
   "cell_type": "code",
   "execution_count": 107,
   "metadata": {},
   "outputs": [
    {
     "name": "stdout",
     "output_type": "stream",
     "text": [
      "313/313 [==============================] - 0s 395us/step - loss: 0.2771 - accuracy: 0.9245\n",
      "[0.27714982628822327, 0.9244999885559082]\n",
      "313/313 [==============================] - 0s 408us/step - loss: 0.0736 - accuracy: 0.9782\n",
      "[0.07360856980085373, 0.9782000184059143]\n"
     ]
    }
   ],
   "source": [
    "#Evaluating the model in test set\n",
    "print(model.evaluate(x=x_test, y=y_test))\n",
    "print(model2.evaluate(x=x_test, y=y_test))"
   ]
  },
  {
   "cell_type": "markdown",
   "metadata": {},
   "source": [
    "### Question 9: \n",
    "Discuss with your group, then describe to your teacher, how this training history\n",
    "differs from the previous model, for the training and validation sets. Describe what\n",
    "this tells us about the generalisation of the model."
   ]
  },
  {
   "cell_type": "markdown",
   "metadata": {},
   "source": [
    "**Answer:**\n",
    "\n",
    "The 2-model has a greater accuracy in test_validation and training set as well. When i use the test-set to evaluate the model, the accuracy falls, but even in very different set it keeps high accuracy (~98% vs 93%).\n",
    "\n",
    "The first model as linear the performance dont change too much in train and test set, but the non-linear function improves it by almost 5%"
   ]
  },
  {
   "cell_type": "code",
   "execution_count": null,
   "metadata": {},
   "outputs": [],
   "source": []
  }
 ],
 "metadata": {
  "kernelspec": {
   "display_name": "Python 3",
   "language": "python",
   "name": "python3"
  },
  "language_info": {
   "codemirror_mode": {
    "name": "ipython",
    "version": 3
   },
   "file_extension": ".py",
   "mimetype": "text/x-python",
   "name": "python",
   "nbconvert_exporter": "python",
   "pygments_lexer": "ipython3",
   "version": "3.8.3"
  }
 },
 "nbformat": 4,
 "nbformat_minor": 4
}
