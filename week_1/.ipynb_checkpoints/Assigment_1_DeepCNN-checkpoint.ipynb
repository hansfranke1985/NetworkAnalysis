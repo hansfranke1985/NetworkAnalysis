{
 "cells": [
  {
   "cell_type": "code",
   "execution_count": 1,
   "metadata": {},
   "outputs": [],
   "source": [
    "import tensorflow as tf\n",
    "import keras\n",
    "import pandas as pd\n",
    "import numpy as np\n",
    "import matplotlib.pyplot as plt\n",
    "from keras.preprocessing.image import ImageDataGenerator #preprocessing images"
   ]
  },
  {
   "cell_type": "markdown",
   "metadata": {},
   "source": [
    "# Data preparation\n",
    "\n",
    "Reshape x_train\n",
    "to size 60000, 28, 28, 1. Reshape x_test to size 10000, 28, 28, 1. Rescale both\n",
    "results to values between zero and one as before. y_train and y_test are categorical\n",
    "units, as before."
   ]
  },
  {
   "cell_type": "code",
   "execution_count": 36,
   "metadata": {},
   "outputs": [],
   "source": [
    "(x_train, y_train), (x_test, y_test) = keras.datasets.mnist.load_data()"
   ]
  },
  {
   "cell_type": "code",
   "execution_count": 37,
   "metadata": {},
   "outputs": [
    {
     "data": {
      "text/plain": [
       "(60000,)"
      ]
     },
     "execution_count": 37,
     "metadata": {},
     "output_type": "execute_result"
    }
   ],
   "source": [
    "y_train.shape"
   ]
  },
  {
   "cell_type": "code",
   "execution_count": 38,
   "metadata": {},
   "outputs": [
    {
     "name": "stdout",
     "output_type": "stream",
     "text": [
      "(60000, 28, 28, 1)\n",
      "(10000, 28, 28, 1)\n"
     ]
    }
   ],
   "source": [
    "#Reshape (from 60000x28x28 to 60000x28x28x1)\n",
    "x_train = np.reshape(x_train, (60000,28,28,1))\n",
    "x_test = np.reshape(x_test, (10000,28,28,1))\n",
    "\n",
    "print((x_train.shape))\n",
    "print((x_test.shape))"
   ]
  },
  {
   "cell_type": "code",
   "execution_count": 39,
   "metadata": {},
   "outputs": [],
   "source": [
    "#Rescale\n",
    "x_train = x_train / 255\n",
    "x_test = x_test / 255\n",
    "\n",
    "#Categorical\n",
    "y_train = keras.utils.to_categorical(y_train, 10)\n",
    "y_test = keras.utils.to_categorical(y_test, 10)"
   ]
  },
  {
   "cell_type": "code",
   "execution_count": 40,
   "metadata": {},
   "outputs": [],
   "source": [
    "model = keras.Sequential()\n",
    "model.add(keras.layers.Conv2D(filters=32, kernel_size=(3, 3),\n",
    "                              activation=\"relu\", input_shape=(28, 28, 1)))\n",
    "model.add(keras.layers.Conv2D(filters=64, kernel_size=(3, 3), \n",
    "                              activation=\"relu\"))\n",
    "model.add(keras.layers.MaxPool2D(pool_size=(2, 2)))\n",
    "model.add(keras.layers.Flatten())\n",
    "model.add(keras.layers.Dense(128, activation=\"relu\")) \n",
    "model.add(keras.layers.Dense(10, activation=\"softmax\")) #output layer\n"
   ]
  },
  {
   "cell_type": "code",
   "execution_count": 41,
   "metadata": {},
   "outputs": [
    {
     "name": "stdout",
     "output_type": "stream",
     "text": [
      "Model: \"sequential_2\"\n",
      "_________________________________________________________________\n",
      "Layer (type)                 Output Shape              Param #   \n",
      "=================================================================\n",
      "conv2d_4 (Conv2D)            (None, 26, 26, 32)        320       \n",
      "_________________________________________________________________\n",
      "conv2d_5 (Conv2D)            (None, 24, 24, 64)        18496     \n",
      "_________________________________________________________________\n",
      "max_pooling2d_2 (MaxPooling2 (None, 12, 12, 64)        0         \n",
      "_________________________________________________________________\n",
      "flatten_2 (Flatten)          (None, 9216)              0         \n",
      "_________________________________________________________________\n",
      "dense_4 (Dense)              (None, 128)               1179776   \n",
      "_________________________________________________________________\n",
      "dense_5 (Dense)              (None, 10)                1290      \n",
      "=================================================================\n",
      "Total params: 1,199,882\n",
      "Trainable params: 1,199,882\n",
      "Non-trainable params: 0\n",
      "_________________________________________________________________\n"
     ]
    }
   ],
   "source": [
    "model.summary()"
   ]
  },
  {
   "cell_type": "code",
   "execution_count": 53,
   "metadata": {},
   "outputs": [],
   "source": [
    "#Compile the Model:\n",
    "model.compile(loss='categorical_crossentropy',\n",
    "   optimizer=keras.optimizers.Adadelta(learning_rate=1), metrics='accuracy')\n"
   ]
  },
  {
   "cell_type": "code",
   "execution_count": 54,
   "metadata": {},
   "outputs": [
    {
     "name": "stdout",
     "output_type": "stream",
     "text": [
      "Epoch 1/6\n",
      "375/375 [==============================] - 38s 103ms/step - loss: 0.2246 - accuracy: 0.9320 - val_loss: 0.0696 - val_accuracy: 0.9801\n",
      "Epoch 2/6\n",
      "375/375 [==============================] - 42s 111ms/step - loss: 0.0560 - accuracy: 0.9832 - val_loss: 0.0455 - val_accuracy: 0.9869\n",
      "Epoch 3/6\n",
      "375/375 [==============================] - 41s 109ms/step - loss: 0.0340 - accuracy: 0.9896 - val_loss: 0.0435 - val_accuracy: 0.9865\n",
      "Epoch 4/6\n",
      "375/375 [==============================] - 40s 106ms/step - loss: 0.0230 - accuracy: 0.9930 - val_loss: 0.0431 - val_accuracy: 0.9872\n",
      "Epoch 5/6\n",
      "375/375 [==============================] - 41s 109ms/step - loss: 0.0153 - accuracy: 0.9951 - val_loss: 0.0435 - val_accuracy: 0.9877\n",
      "Epoch 6/6\n",
      "375/375 [==============================] - 40s 107ms/step - loss: 0.0101 - accuracy: 0.9970 - val_loss: 0.0458 - val_accuracy: 0.9885\n"
     ]
    }
   ],
   "source": [
    "# Fit the model\n",
    "history = model.fit(x_train, y_train, batch_size=128, \n",
    "                    epochs=6, verbose=1, validation_split=0.2)"
   ]
  },
  {
   "cell_type": "markdown",
   "metadata": {},
   "source": [
    "## Question 10: \n",
    "Plot the training history and show this to your teacher."
   ]
  },
  {
   "cell_type": "code",
   "execution_count": 55,
   "metadata": {},
   "outputs": [
    {
     "data": {
      "text/plain": [
       "<matplotlib.legend.Legend at 0x175906c96d0>"
      ]
     },
     "execution_count": 55,
     "metadata": {},
     "output_type": "execute_result"
    },
    {
     "data": {
      "image/png": "[encoded data removed]",
      "text/plain": [
       "<Figure size 432x288 with 1 Axes>"
      ]
     },
     "metadata": {
      "needs_background": "light"
     },
     "output_type": "display_data"
    }
   ],
   "source": [
    "#Accuracy\n",
    "plt.title('model accuracy')\n",
    "plt.ylabel('accuracy')\n",
    "plt.xlabel('epoch')\n",
    "plt.plot(history.history['accuracy'], label = 'accuracy')\n",
    "plt.plot(history.history['val_accuracy'], label = 'val_accuracy')\n",
    "\n",
    "plt.legend()"
   ]
  },
  {
   "cell_type": "code",
   "execution_count": 56,
   "metadata": {},
   "outputs": [
    {
     "data": {
      "text/plain": [
       "<matplotlib.legend.Legend at 0x17593ae1a60>"
      ]
     },
     "execution_count": 56,
     "metadata": {},
     "output_type": "execute_result"
    },
    {
     "data": {
      "image/png": "[encoded data removed]",
      "text/plain": [
       "<Figure size 432x288 with 1 Axes>"
      ]
     },
     "metadata": {
      "needs_background": "light"
     },
     "output_type": "display_data"
    }
   ],
   "source": [
    "#Loss\n",
    "plt.title('LOSS')\n",
    "plt.ylabel('accuracy')\n",
    "plt.xlabel('epoch')\n",
    "plt.plot(history.history['loss'], label = 'accuracy')\n",
    "plt.plot(history.history['val_loss'], label = 'val_accuracy')\n",
    "\n",
    "plt.legend()"
   ]
  },
  {
   "cell_type": "markdown",
   "metadata": {},
   "source": [
    "### Question 11: \n",
    "Discuss with your group, then describe to your teacher, how the training history\n",
    "differs from the previous model, for the training and validation sets. What does this\n",
    "tell us about the generalisation of the model?"
   ]
  },
  {
   "cell_type": "markdown",
   "metadata": {},
   "source": [
    "**Answer:** Now the model seems to improve in each epoch togheter (train and test), the model has 3% of diference between accuracy in train x test, so generalization is not good, same as model 2. And it so strange that the performance on test set is better. "
   ]
  },
  {
   "cell_type": "markdown",
   "metadata": {},
   "source": [
    "### Question 12:\n",
    "Show your teacher what values you get for the model’s accuracy and loss. (Question\n",
    "12, 2 points)"
   ]
  },
  {
   "cell_type": "code",
   "execution_count": 57,
   "metadata": {},
   "outputs": [
    {
     "data": {
      "text/plain": [
       "0.9884999990463257"
      ]
     },
     "execution_count": 57,
     "metadata": {},
     "output_type": "execute_result"
    }
   ],
   "source": [
    "max(history.history['val_accuracy'])"
   ]
  },
  {
   "cell_type": "code",
   "execution_count": 58,
   "metadata": {},
   "outputs": [
    {
     "data": {
      "text/plain": [
       "0.06955928355455399"
      ]
     },
     "execution_count": 58,
     "metadata": {},
     "output_type": "execute_result"
    }
   ],
   "source": [
    "max(history.history['val_loss'])"
   ]
  },
  {
   "cell_type": "markdown",
   "metadata": {},
   "source": [
    "### Question 13: \n",
    "Discuss with your group, then describe to your teacher, whether this accuracy is\n",
    "sufficient for some uses of automatic hand-written digit classification. (Question 13, 5\n",
    "points)"
   ]
  },
  {
   "cell_type": "markdown",
   "metadata": {},
   "source": [
    "**Answer**:\n",
    "75% accuracy is really bad to detect digit classification, it seems that model loses performance compared with previous model."
   ]
  },
  {
   "cell_type": "code",
   "execution_count": 59,
   "metadata": {},
   "outputs": [
    {
     "name": "stdout",
     "output_type": "stream",
     "text": [
      "Model: \"sequential_6\"\n",
      "_________________________________________________________________\n",
      "Layer (type)                 Output Shape              Param #   \n",
      "=================================================================\n",
      "conv2d_12 (Conv2D)           (None, 26, 26, 32)        320       \n",
      "_________________________________________________________________\n",
      "conv2d_13 (Conv2D)           (None, 24, 24, 64)        18496     \n",
      "_________________________________________________________________\n",
      "max_pooling2d_6 (MaxPooling2 (None, 12, 12, 64)        0         \n",
      "_________________________________________________________________\n",
      "dropout_6 (Dropout)          (None, 12, 12, 64)        0         \n",
      "_________________________________________________________________\n",
      "flatten_6 (Flatten)          (None, 9216)              0         \n",
      "_________________________________________________________________\n",
      "dense_12 (Dense)             (None, 128)               1179776   \n",
      "_________________________________________________________________\n",
      "dropout_7 (Dropout)          (None, 128)               0         \n",
      "_________________________________________________________________\n",
      "dense_13 (Dense)             (None, 10)                1290      \n",
      "=================================================================\n",
      "Total params: 1,199,882\n",
      "Trainable params: 1,199,882\n",
      "Non-trainable params: 0\n",
      "_________________________________________________________________\n"
     ]
    }
   ],
   "source": [
    "#Updating the model with Dropout Layers\n",
    "model2 = keras.Sequential()\n",
    "model2.add(keras.layers.Conv2D(filters=32, kernel_size=(3, 3),\n",
    "                              activation=\"relu\", input_shape=(28, 28, 1)))\n",
    "model2.add(keras.layers.Conv2D(filters=64, kernel_size=(3, 3), \n",
    "                              activation=\"relu\"))\n",
    "model2.add(keras.layers.MaxPool2D(pool_size=(2, 2)))\n",
    "model2.add(keras.layers.Dropout(rate=0.25))\n",
    "model2.add(keras.layers.Flatten())\n",
    "model2.add(keras.layers.Dense(128, activation=\"relu\")) \n",
    "model2.add(keras.layers.Dropout(rate=0.5))\n",
    "model2.add(keras.layers.Dense(10, activation=\"softmax\")) #output layer\n",
    "\n",
    "#Compile the Model:\n",
    "model2.compile(loss='categorical_crossentropy',\n",
    "   optimizer=keras.optimizers.Adadelta(learning_rate=1), metrics='accuracy')\n",
    "\n",
    "model2.summary()\n"
   ]
  },
  {
   "cell_type": "code",
   "execution_count": 60,
   "metadata": {},
   "outputs": [
    {
     "name": "stdout",
     "output_type": "stream",
     "text": [
      "Epoch 1/6\n",
      "375/375 [==============================] - 43s 116ms/step - loss: 0.3049 - accuracy: 0.9064 - val_loss: 0.0684 - val_accuracy: 0.9805\n",
      "Epoch 2/6\n",
      "375/375 [==============================] - 43s 115ms/step - loss: 0.0983 - accuracy: 0.9701 - val_loss: 0.0523 - val_accuracy: 0.9849\n",
      "Epoch 3/6\n",
      "375/375 [==============================] - 42s 113ms/step - loss: 0.0721 - accuracy: 0.9784 - val_loss: 0.0462 - val_accuracy: 0.9861\n",
      "Epoch 4/6\n",
      "375/375 [==============================] - 42s 112ms/step - loss: 0.0578 - accuracy: 0.9827 - val_loss: 0.0407 - val_accuracy: 0.9878\n",
      "Epoch 5/6\n",
      "375/375 [==============================] - 41s 111ms/step - loss: 0.0500 - accuracy: 0.9846 - val_loss: 0.0402 - val_accuracy: 0.9887\n",
      "Epoch 6/6\n",
      "375/375 [==============================] - 41s 109ms/step - loss: 0.0431 - accuracy: 0.9869 - val_loss: 0.0466 - val_accuracy: 0.9860\n"
     ]
    }
   ],
   "source": [
    "# Fit the model\n",
    "history2 = model2.fit(x_train, y_train, batch_size=128, \n",
    "                    epochs=6, verbose=1, validation_split=0.2)"
   ]
  },
  {
   "cell_type": "markdown",
   "metadata": {},
   "source": [
    "### Question 14:\n",
    "Discuss with your group, then describe to your teacher, how the training history\n",
    "differs from the previous (convolutional) model, for both the training and validation\n",
    "sets, and for the time taken to run each model epoch (Question 14, 3 points)\n"
   ]
  },
  {
   "cell_type": "markdown",
   "metadata": {},
   "source": [
    "**Answer**: Now the accuracy on training falls ~20%, the same as val_accuracy lose performance (73% x ~78% !)"
   ]
  },
  {
   "cell_type": "markdown",
   "metadata": {},
   "source": [
    "### Question 15: \n",
    "Discuss with your group, then describe to your teacher, what this tells us about the\n",
    "generalisation of the two models. (Question 15, 3 points)"
   ]
  },
  {
   "cell_type": "markdown",
   "metadata": {},
   "source": [
    "**Answer**: the model is more general because the accuracy in validation set is better than training set."
   ]
  },
  {
   "cell_type": "code",
   "execution_count": null,
   "metadata": {},
   "outputs": [],
   "source": []
  },
  {
   "cell_type": "code",
   "execution_count": null,
   "metadata": {},
   "outputs": [],
   "source": []
  }
 ],
 "metadata": {
  "kernelspec": {
   "display_name": "Python 3",
   "language": "python",
   "name": "python3"
  },
  "language_info": {
   "codemirror_mode": {
    "name": "ipython",
    "version": 3
   },
   "file_extension": ".py",
   "mimetype": "text/x-python",
   "name": "python",
   "nbconvert_exporter": "python",
   "pygments_lexer": "ipython3",
   "version": "3.8.3"
  }
 },
 "nbformat": 4,
 "nbformat_minor": 4
}
