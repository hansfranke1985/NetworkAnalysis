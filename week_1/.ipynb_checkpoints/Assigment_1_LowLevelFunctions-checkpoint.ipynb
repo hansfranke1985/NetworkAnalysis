{
 "cells": [
  {
   "cell_type": "markdown",
   "metadata": {},
   "source": [
    "# Exercise three: Low-level functions"
   ]
  },
  {
   "cell_type": "markdown",
   "metadata": {},
   "source": [
    "Deep learning relies on a few basic operations: convolution, nonlinear activation,\n",
    "pooling, and normalisation. Backpropagation of error is used to learn connection\n",
    "weights, and a fully-connected layer linked to output nodes with a softmax function\n",
    "are also required. So far, we have used calls to Keras’s high-level libraries to do\n",
    "these operations, as these are efficiently coded and easy to use. But it is also\n",
    "important that you understand the basic functions at a low level."
   ]
  },
  {
   "cell_type": "code",
   "execution_count": 9,
   "metadata": {},
   "outputs": [],
   "source": [
    "import numpy as np"
   ]
  },
  {
   "cell_type": "markdown",
   "metadata": {},
   "source": [
    "## Question 20:\n",
    "Write a simple function that achieves the convolution operation efficiently for twodimensional\n",
    "and three-dimensional inputs. This should allow you to input a set of\n",
    "convolutional filters (‘kernels’ in Keras’s terminology) and an input layer (or image)\n",
    "as inputs. The input layer should have a third dimension, representing a stack of\n",
    "feature maps, and each filter should have a third dimension of corresponding size.\n",
    "The function should output a number of two-dimensional feature maps\n",
    "corresponding to the number of input filters, though these can be stacked into a third\n",
    "dimensional like the input layer. After agreeing on a common function with your\n",
    "group members, show this to your teacher. (Question 20, 5 points)"
   ]
  },
  {
   "cell_type": "code",
   "execution_count": 50,
   "metadata": {},
   "outputs": [],
   "source": [
    "def convolve2D(image, kernel, padding=0, strides=1):\n",
    "    # Cross Correlation\n",
    "    kernel = np.flipud(np.fliplr(kernel))\n",
    "\n",
    "    # Gather Shapes of Kernel + Image + Padding\n",
    "    xKernShape = kernel.shape[0]\n",
    "    yKernShape = kernel.shape[1]\n",
    "    xImgShape = image.shape[0]\n",
    "    yImgShape = image.shape[1]\n",
    "\n",
    "    # Shape of Output Convolution\n",
    "    xOutput = int(((xImgShape - xKernShape + 2 * padding) / strides) + 1)\n",
    "    yOutput = int(((yImgShape - yKernShape + 2 * padding) / strides) + 1)\n",
    "    output = np.zeros((xOutput, yOutput))\n",
    "\n",
    "    # Apply Equal Padding to All Sides\n",
    "    if padding != 0:\n",
    "        imagePadded = np.zeros((image.shape[0] + padding*2, image.shape[1] + padding*2))\n",
    "        imagePadded[int(padding):int(-1 * padding), int(padding):int(-1 * padding)] = image\n",
    "        print(imagePadded)\n",
    "    else:\n",
    "        imagePadded = image\n",
    "\n",
    "    # Iterate through image\n",
    "    for y in range(image.shape[1]):\n",
    "        # Exit Convolution\n",
    "        if y > image.shape[1] - yKernShape:\n",
    "            break\n",
    "        # Only Convolve if y has gone down by the specified Strides\n",
    "        if y % strides == 0:\n",
    "            for x in range(image.shape[0]):\n",
    "                # Go to next row once kernel is out of bounds\n",
    "                if x > image.shape[0] - xKernShape:\n",
    "                    break\n",
    "                try:\n",
    "                    # Only Convolve if x has moved by the specified Strides\n",
    "                    if x % strides == 0:\n",
    "                        output[x, y] = (kernel * imagePadded[x: x + xKernShape, y: y + yKernShape]).sum()\n",
    "                except:\n",
    "                    break\n",
    "\n",
    "    return output\n",
    "\n",
    "def convolve3D(image, kernel, padding=0, strides=1):\n",
    "    # Cross Correlation\n",
    "    kernel = np.flipud(np.fliplr(kernel))\n",
    "\n",
    "    # Gather Shapes of Kernel + Image + Padding\n",
    "    xKernShape = kernel.shape[0]\n",
    "    yKernShape = kernel.shape[1]\n",
    "    xImgShape = image.shape[0]\n",
    "    yImgShape = image.shape[1]\n",
    "    \n",
    "\n",
    "    # Shape of Output Convolution\n",
    "    xOutput = int(((xImgShape - xKernShape + 2 * padding) / strides) + 1)\n",
    "    yOutput = int(((yImgShape - yKernShape + 2 * padding) / strides) + 1)\n",
    "    output = np.zeros((xOutput, yOutput))\n",
    "\n",
    "    # Apply Equal Padding to All Sides\n",
    "    if padding != 0:\n",
    "        imagePadded = np.zeros((image.shape[0] + padding*2, image.shape[1] + padding*2))\n",
    "        imagePadded[int(padding):int(-1 * padding), int(padding):int(-1 * padding)] = image\n",
    "        print(imagePadded)\n",
    "    else:\n",
    "        imagePadded = image\n",
    "\n",
    "    # Iterate through image\n",
    "    for y in range(image.shape[2]):  \n",
    "        print(\"works\")\n",
    "         if y > image.shape[2] - yKernShape:\n",
    "                break\n",
    "            for y in range(image.shape[1]):\n",
    "                # Exit Convolution\n",
    "                if y > image.shape[1] - yKernShape:\n",
    "                    break\n",
    "                # Only Convolve if y has gone down by the specified Strides\n",
    "                if y % strides == 0:\n",
    "                    for x in range(image.shape[0]):\n",
    "                        # Go to next row once kernel is out of bounds\n",
    "                        if x > image.shape[0] - xKernShape - yKernShape:\n",
    "                            break\n",
    "                        try:\n",
    "                            # Only Convolve if x has moved by the specified Strides\n",
    "                            if x % strides == 0:\n",
    "                                output[x, y] = (kernel * imagePadded[x: x + xKernShape, y: y + yKernShape]).sum()\n",
    "                        except:\n",
    "                            break\n",
    "\n",
    "    return output\n"
   ]
  },
  {
   "cell_type": "code",
   "execution_count": 68,
   "metadata": {},
   "outputs": [
    {
     "data": {
      "text/plain": [
       "(2, 2)"
      ]
     },
     "execution_count": 68,
     "metadata": {},
     "output_type": "execute_result"
    }
   ],
   "source": [
    "kernel = np.array([[-1, -1],[-1, -1]\n",
    "                 \n",
    "                  ])\n",
    "\n",
    "\n",
    "array_1 = np.array([[1,0,1],[1,0,1]])\n",
    "array_2 =  np.array([[[ 0.,  0.,  0.,  0.],\n",
    "                      [ 0.,  0.,  0.,  0.],\n",
    "                      [ 0.,  0.,  0.,  0.]],\n",
    "\n",
    "                      [[ 0.,  0.,  0.,  0.],\n",
    "                      [ 0.,  0.,  0.,  0.],\n",
    "                      [ 0.,  0.,  0.,  0.]]])\n",
    "kernel.shape"
   ]
  },
  {
   "cell_type": "code",
   "execution_count": 69,
   "metadata": {},
   "outputs": [
    {
     "data": {
      "text/plain": [
       "(2, 3)"
      ]
     },
     "execution_count": 69,
     "metadata": {},
     "output_type": "execute_result"
    }
   ],
   "source": [
    "array_1.shape"
   ]
  },
  {
   "cell_type": "code",
   "execution_count": 70,
   "metadata": {},
   "outputs": [
    {
     "data": {
      "text/plain": [
       "2"
      ]
     },
     "execution_count": 70,
     "metadata": {},
     "output_type": "execute_result"
    }
   ],
   "source": [
    "array_1.shape[0]"
   ]
  },
  {
   "cell_type": "code",
   "execution_count": 71,
   "metadata": {},
   "outputs": [
    {
     "data": {
      "text/plain": [
       "array([[-2., -2.]])"
      ]
     },
     "execution_count": 71,
     "metadata": {},
     "output_type": "execute_result"
    }
   ],
   "source": [
    "convolve2D(array_1, kernel)"
   ]
  },
  {
   "cell_type": "markdown",
   "metadata": {},
   "source": [
    "## Question 21:\n",
    "Write a simple function that achieves rectified linear (relu) activation over a whole\n",
    "feature map, with a threshold at zero. After agreeing on a common function with your\n",
    "group members, show this to your teacher. (Question 21, 2 points)"
   ]
  },
  {
   "cell_type": "code",
   "execution_count": null,
   "metadata": {},
   "outputs": [],
   "source": []
  },
  {
   "cell_type": "markdown",
   "metadata": {},
   "source": [
    "## Question 22:\n",
    "Write a simple function that achieves max pooling. This should allow you to specify\n",
    "the spatial extent of the pooling, with the size of the output feature map changing\n",
    "accordingly. After agreeing on a common function with your group members, show\n",
    "this to your teacher. (Question 22, 3 points)"
   ]
  },
  {
   "cell_type": "markdown",
   "metadata": {},
   "source": [
    "## Question 23:\n",
    "Write a simple function that achieves normalisation within each feature map,\n",
    "modifying the feature map so that its mean value is zero and its standard deviation is\n",
    "one. After agreeing on a common function with your group members, show this to\n",
    "your teacher. (Question 23, 2 points)"
   ]
  },
  {
   "cell_type": "markdown",
   "metadata": {},
   "source": [
    "## Question 24:\n",
    "Write a function that produces a fully-connected layer. This should allow you to\n",
    "specify the number of output nodes, and link each of these to every node a stack of\n",
    "feature maps. The stack of feature maps will typically be flattened into a 1-\n",
    "dimensional matrix first. After agreeing on a common function with your group\n",
    "members, show this to your teacher. (Question 24, 5 points)"
   ]
  },
  {
   "cell_type": "markdown",
   "metadata": {},
   "source": [
    "## Question 25:\n",
    "Write a function that converts the activation of a 1-dimensional matrix (such as the\n",
    "output of a fully-connected layer) into a set of probabilities that each matrix element\n",
    "is the most likely classification. This should include the algorithmic expression of a\n",
    "softmax (normalised exponential) function. After agreeing on a common function with\n",
    "your group members, show this to your teacher. (Question 25, 2 points)"
   ]
  },
  {
   "cell_type": "markdown",
   "metadata": {},
   "source": [
    "**BONUS QUESTION:** Write a function to achieve backpropagation of error to affect\n",
    "the convolutional filter (kernel) structure used in Question 20. Modify your function\n",
    "from Question 20 so you can input the convolutional filters, allowing you to modify\n",
    "these filters using backpropagation (outside the convolution function). Initialise the\n",
    "network with random weights in the filters. After agreeing on common functions for\n",
    "convolution with your group members, show your teacher how you changed this from\n",
    "the answer given in Question 20. Show your teacher your code for backpropagation\n",
    "(Question 26, 5 points)\n",
    "\n",
    "**BONUS QUESTION:** Write a piece of code that uses all of these functions (from\n",
    "Questions 22-28) together to make a convolutional neural network with two\n",
    "convolutional layers, a fully connected layer, and an output layer (pooling is optional,\n",
    "but thresholding and normalisation are required). This should give the accuracy of\n",
    "the labels as an output. Show the resulting code to your teacher. (Question 27, 5\n",
    "points)\n",
    "\n",
    "\n",
    "**BONUS QUESTION:** Use the resulting function to learn to classify the mnist data\n",
    "set, as you did in question 10. Plot the progression of the classification accuracy\n",
    "over 100 cycles. Show the resulting plots to your teacher. (Question 28, 5 points)."
   ]
  },
  {
   "cell_type": "code",
   "execution_count": null,
   "metadata": {},
   "outputs": [],
   "source": []
  }
 ],
 "metadata": {
  "kernelspec": {
   "display_name": "Python 3",
   "language": "python",
   "name": "python3"
  },
  "language_info": {
   "codemirror_mode": {
    "name": "ipython",
    "version": 3
   },
   "file_extension": ".py",
   "mimetype": "text/x-python",
   "name": "python",
   "nbconvert_exporter": "python",
   "pygments_lexer": "ipython3",
   "version": "3.8.3"
  }
 },
 "nbformat": 4,
 "nbformat_minor": 4
}
