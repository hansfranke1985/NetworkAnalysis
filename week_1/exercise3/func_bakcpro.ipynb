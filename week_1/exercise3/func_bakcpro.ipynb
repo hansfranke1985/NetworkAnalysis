{
 "cells": [
  {
   "cell_type": "code",
   "execution_count": 1,
   "metadata": {},
   "outputs": [],
   "source": [
    "from functools import reduce\n",
    "\n",
    "import numpy as np\n",
    "from tensorflow import keras\n",
    "from tensorflow.keras import layers\n",
    "import matplotlib.pyplot as plt \n",
    "%matplotlib inline"
   ]
  },
  {
   "cell_type": "code",
   "execution_count": 2,
   "metadata": {},
   "outputs": [],
   "source": [
    "from backpro import Conv2D, Activation, MaxPooling, Normalization, FC, Softmax, clac"
   ]
  },
  {
   "cell_type": "code",
   "execution_count": 3,
   "metadata": {},
   "outputs": [],
   "source": [
    "# import mnist\n",
    "# import matplotlib.pyplot as plt \n",
    "\n",
    "# # The mnist package handles the MNIST dataset for us!\n",
    "# # Learn more at https://github.com/datapythonista/mnist\n",
    "# train_images = mnist.train_images()\n",
    "# train_labels = mnist.train_labels()\n",
    "\n",
    "# image = train_images[0]\n",
    "# print(image.shape)\n",
    "# conv = Conv3x3(num_filters=8)\n",
    "# output = conv.forward(inputs=image)\n",
    "# print(output.shape) # (26, 26, 8)\n",
    "\n",
    "# maxpool = MaxPool()\n",
    "# output = maxpool.forward(output)\n",
    "# print(output.shape)"
   ]
  },
  {
   "cell_type": "code",
   "execution_count": 7,
   "metadata": {},
   "outputs": [
    {
     "name": "stdout",
     "output_type": "stream",
     "text": [
      "x train shape (50000, 32, 32, 3)\n",
      "x test shape (10000, 32, 32, 3)\n",
      "y train shape: (50000, 10)\n",
      "y test shape: (10000, 10)\n"
     ]
    }
   ],
   "source": [
    "# the data, split between train and test sets\n",
    "(x_train, y_train), (x_test, y_test) = keras.datasets.cifar10.load_data()\n",
    "\n",
    "# Scale images to the [0, 1] range\n",
    "x_train = x_train.astype(\"float32\") / 255  # (50000, 32, 32, 3)\n",
    "x_test = x_test.astype(\"float32\") / 255 # (10000, 32, 32, 3)\n",
    "\n",
    "# Need an extra dimension for colour channels\n",
    "print(\"x train shape\", x_train.shape)\n",
    "print(\"x test shape\", x_test.shape)\n",
    "\n",
    "# convert class vectors to binary class matrices\n",
    "num_classes = 10\n",
    "y_train = keras.utils.to_categorical(y_train, num_classes) # (50000, 10)\n",
    "y_test = keras.utils.to_categorical(y_test, num_classes) # (10000, 10)\n",
    "\n",
    "print(\"y train shape:\", y_train.shape)\n",
    "print(\"y test shape:\", y_test.shape)"
   ]
  },
  {
   "cell_type": "code",
   "execution_count": 25,
   "metadata": {},
   "outputs": [
    {
     "name": "stdout",
     "output_type": "stream",
     "text": [
      "Predict array 0\n",
      "predic value 0\n",
      "Real array 1\n",
      "hit? 1\n",
      "\n",
      "\n"
     ]
    }
   ],
   "source": [
    "\n",
    "conv = Conv2D(num_filters=32, kernal_size=3)\n",
    "maxpooling = MaxPooling(pool=2, stride=2)\n",
    "fc = FC()\n",
    "softmax = Softmax()\n",
    "\n",
    "def model(x,y):\n",
    "    '''\n",
    "    x: 3d array\n",
    "    y: 1d array\n",
    "    '''\n",
    "    output = conv.forward(x)\n",
    "    output = maxpooling.forward(output)\n",
    "    output = fc.forward(output, out_dim = 10)\n",
    "    output = softmax.forward(output, out_dim=10)\n",
    "    \n",
    "    # Calculate cross-entropy loss and accuracy. np.log() is the natural log.\n",
    "    # cross_entropy = -ground_truth*ln(predict_outputs)\n",
    "    real_y = np.argmax(y)\n",
    "    pred_y = np.argmax(output)\n",
    "    loss = -np.log(output[real_y])\n",
    "    acc = 1 if pred_y == real_y else 0\n",
    "\n",
    "    return pred_y,output, loss, acc\n",
    "    \n",
    "def backforward(x,y):\n",
    "    learning_rate = 1\n",
    "    pred_y, output, loss, acc = model(x,y)\n",
    "    \n",
    "    gradient = np.zeros(10)\n",
    "    real_y = np.argmax(y)\n",
    "    gradient[real_y] = -1 / output[real_y]\n",
    "\n",
    "    # Calculate gradient\n",
    "    gradient = softmax.backforward(gradient, learning_rate=learning_rate)\n",
    "    #gradient = softmax.backforward(out=loss,learning_rate=learning_rate)\n",
    "    #gradient = fc.backforward(out=gradient,learning_rate=learning_rate)\n",
    "    #gradient = maxpooling.backward(out=gradient)\n",
    "    \n",
    "    return pred_y, output, loss, acc\n",
    "    \n",
    "\n",
    "def fit(x_train,y_train):\n",
    "    total_loss = 0\n",
    "    num_correct = 0\n",
    "    \n",
    "    for j in range(0,len(x_train)):\n",
    "        #print(\"Image\", j)\n",
    "        for i, (x, y) in enumerate(zip(x_train[j],y_train[j])):\n",
    "\n",
    "            # Do a forward pass.\n",
    "            # out, loss, acc = model(x, y)\n",
    "            pred_y, output, loss, acc = backforward(x, y)\n",
    "            total_loss += loss\n",
    "            num_correct += acc\n",
    "            STOP CONDITION:\n",
    "                \n",
    "                NEXT IMAGE\n",
    "    print(\"Predict array\", np.argmax(output))\n",
    "    print('predic value', np.argmax(pred_y))\n",
    "            \n",
    "    print('Real array', np.argmax(y_train[j]))\n",
    "    print('hit?', acc)\n",
    "    print(\"\\n\")\n",
    "            # Print stats every 100 steps.\n",
    "            #if i % 100 == 99:\n",
    "            #    print( '(step {}): avg loss {:.4f} | avg accuracy: {:.2%}'.format(i + 1, total_loss/100, num_correct/100))\n",
    "            #    total_loss = 0\n",
    "            #    num_correct = 0\n",
    "\n",
    "fit(x_train,y_train)"
   ]
  },
  {
   "cell_type": "code",
   "execution_count": null,
   "metadata": {},
   "outputs": [],
   "source": []
  },
  {
   "cell_type": "code",
   "execution_count": null,
   "metadata": {},
   "outputs": [],
   "source": []
  },
  {
   "cell_type": "code",
   "execution_count": null,
   "metadata": {},
   "outputs": [],
   "source": [
    "for i, (im, label) in enumerate(zip(x_train,y_train)):\n",
    "    print(im.shape,label.shape)\n",
    "    output = Conv2D(num_filters=32, kernal_size=3).forward(im)\n",
    "    break"
   ]
  },
  {
   "cell_type": "code",
   "execution_count": null,
   "metadata": {},
   "outputs": [],
   "source": []
  },
  {
   "cell_type": "code",
   "execution_count": null,
   "metadata": {},
   "outputs": [],
   "source": []
  },
  {
   "cell_type": "code",
   "execution_count": null,
   "metadata": {},
   "outputs": [],
   "source": []
  },
  {
   "cell_type": "code",
   "execution_count": null,
   "metadata": {},
   "outputs": [],
   "source": []
  },
  {
   "cell_type": "code",
   "execution_count": 59,
   "metadata": {},
   "outputs": [],
   "source": [
    "weights = np.zeros(0)"
   ]
  },
  {
   "cell_type": "code",
   "execution_count": 60,
   "metadata": {},
   "outputs": [
    {
     "data": {
      "text/plain": [
       "array([[-1.00935743, -0.70188963,  0.13712682, -0.29221669,  0.57737804],\n",
       "       [ 0.30300117,  0.60875762, -0.28396459,  0.18812937,  0.02678039],\n",
       "       [ 0.14711267,  0.1562559 ,  0.29291327, -0.23720729,  0.46139245],\n",
       "       [-0.03351111,  0.62491107, -0.044534  , -0.07629841, -0.30931929],\n",
       "       [-0.435461  ,  0.06951307,  0.13229826, -0.4758822 ,  0.08429771]])"
      ]
     },
     "execution_count": 60,
     "metadata": {},
     "output_type": "execute_result"
    }
   ],
   "source": [
    "if not weights.any():\n",
    "    weights = np.random.randn(5,5) / 2 \n",
    "\n",
    "weights"
   ]
  },
  {
   "cell_type": "code",
   "execution_count": null,
   "metadata": {},
   "outputs": [],
   "source": []
  },
  {
   "cell_type": "code",
   "execution_count": 54,
   "metadata": {},
   "outputs": [
    {
     "data": {
      "text/plain": [
       "array([], dtype=float64)"
      ]
     },
     "execution_count": 54,
     "metadata": {},
     "output_type": "execute_result"
    }
   ],
   "source": [
    "weights = np.zeros(0)\n",
    "weights"
   ]
  },
  {
   "cell_type": "code",
   "execution_count": 53,
   "metadata": {},
   "outputs": [
    {
     "data": {
      "text/plain": [
       "True"
      ]
     },
     "execution_count": 53,
     "metadata": {},
     "output_type": "execute_result"
    }
   ],
   "source": [
    "weights.any()"
   ]
  },
  {
   "cell_type": "code",
   "execution_count": null,
   "metadata": {},
   "outputs": [],
   "source": []
  },
  {
   "cell_type": "code",
   "execution_count": null,
   "metadata": {},
   "outputs": [],
   "source": []
  }
 ],
 "metadata": {
  "kernelspec": {
   "display_name": "Python 3",
   "language": "python",
   "name": "python3"
  },
  "language_info": {
   "codemirror_mode": {
    "name": "ipython",
    "version": 3
   },
   "file_extension": ".py",
   "mimetype": "text/x-python",
   "name": "python",
   "nbconvert_exporter": "python",
   "pygments_lexer": "ipython3",
   "version": "3.8.3"
  }
 },
 "nbformat": 4,
 "nbformat_minor": 4
}
