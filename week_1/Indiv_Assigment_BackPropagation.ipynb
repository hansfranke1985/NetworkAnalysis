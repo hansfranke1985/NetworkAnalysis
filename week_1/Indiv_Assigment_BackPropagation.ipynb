{
 "cells": [
  {
   "cell_type": "code",
   "execution_count": 5,
   "metadata": {},
   "outputs": [
    {
     "name": "stdout",
     "output_type": "stream",
     "text": [
      "Matrix of grades-assigments:X1,X2 \n",
      "\n",
      "Matrix of grades-EXAMs: Exam or Y \n",
      "\n",
      "Number of students: 15\n",
      "\n",
      " X1 , X2, EXAM, Y_HAT\n",
      "[[4.         6.         9.         8.9999967 ]\n",
      " [1.         2.         2.         1.99999954]\n",
      " [3.         7.         6.         5.99999789]\n",
      " [0.         9.         2.         1.99999936]\n",
      " [3.         5.         2.         1.99999905]\n",
      " [5.         4.         8.         7.99999801]\n",
      " [0.         7.         8.         7.9999975 ]\n",
      " [7.         3.         7.         6.99999759]\n",
      " [4.         4.         8.         7.9999969 ]\n",
      " [5.         4.         7.         6.99999787]\n",
      " [9.         7.         6.         5.9999987 ]\n",
      " [6.         9.         2.         1.99999887]\n",
      " [5.         8.         6.         5.99999832]\n",
      " [7.         0.         8.         7.99999772]\n",
      " [8.         0.         2.         1.99999985]]\n",
      "Total error -0.0003917497118490765\n"
     ]
    }
   ],
   "source": [
    "import numpy as np\n",
    "\n",
    "# define the sigmoid function \n",
    "# Backpropagation is actually a major motivating factor in the historical use of sigmoid activation functions due to its convenient derivative:\n",
    "def sigmoid(x, derivative=False):\n",
    "\n",
    "    if (derivative == True):\n",
    "        return sigmoid(x,derivative=False) * (1 - sigmoid(x,derivative=False))\n",
    "    else:\n",
    "        return 1 / (1 + np.exp(-x))\n",
    "\n",
    "# choose a random seed for reproducible results\n",
    "#np.random.seed(1)\n",
    "\n",
    "# learning rate\n",
    "alpha = .1\n",
    "\n",
    "# number of nodes in the hidden layer\n",
    "num_hidden = 2\n",
    "\n",
    "# inputs (grade individual assigment, grade of group assigment)\n",
    "#Student 1 to student n (number of rows)\n",
    "number_students = 15\n",
    "X = np.random.randint(10, size=(number_students, 2))\n",
    "\n",
    "\n",
    "# outputs\n",
    "# x.T is the transpose of x, making this a column vector\n",
    "y = np.random.randint(10, size=(number_students, 1)).T\n",
    "\n",
    "\n",
    "# initialize weights randomly with mean 0 and range [-1, 1]\n",
    "# the +1 in the 1st dimension of the weight matrices is for the bias weight\n",
    "hidden_weights = 2*np.random.random((X.shape[1] + 1, num_hidden)) - 1\n",
    "output_weights = 2*np.random.random((num_hidden + 1, y.shape[1])) - 1\n",
    "\n",
    "# number of iterations of gradient descent\n",
    "num_iterations = 10000\n",
    "\n",
    "# for each iteration of gradient descent\n",
    "for i in range(num_iterations):\n",
    "\n",
    "    # forward phase\n",
    "    # np.hstack((np.ones(...), X) adds a fixed input of 1 for the bias weight\n",
    "    input_layer_outputs = np.hstack((np.ones((X.shape[0], 1)), X))\n",
    "    hidden_layer_outputs = np.hstack((np.ones((X.shape[0], 1)), sigmoid(np.dot(input_layer_outputs, hidden_weights))))\n",
    "    output_layer_outputs = np.dot(hidden_layer_outputs, output_weights)\n",
    "\n",
    "    # backward phase\n",
    "    # output layer error term\n",
    "    output_error = output_layer_outputs - y\n",
    "    # hidden layer error term\n",
    "    # [:, 1:] removes the bias term from the backpropagation\n",
    "    hidden_error = hidden_layer_outputs[:, 1:] * (1 - hidden_layer_outputs[:, 1:]) * np.dot(output_error, output_weights.T[:, 1:])\n",
    "\n",
    "    # partial derivatives\n",
    "    hidden_pd = input_layer_outputs[:, :, np.newaxis] * hidden_error[: , np.newaxis, :]\n",
    "    output_pd = hidden_layer_outputs[:, :, np.newaxis] * output_error[:, np.newaxis, :]\n",
    "\n",
    "    # average for total gradients\n",
    "    total_hidden_gradient = np.average(hidden_pd, axis=0)\n",
    "    total_output_gradient = np.average(output_pd, axis=0)\n",
    "\n",
    "    # update weights\n",
    "    hidden_weights += - alpha * total_hidden_gradient\n",
    "    output_weights += - alpha * total_output_gradient\n",
    "\n",
    "# print the final outputs of the neural network on the inputs X\n",
    "\n",
    "#transform output to predict values\n",
    "y_hat = np.mean(output_layer_outputs, axis=0)\n",
    "y_hat = y_hat.reshape(1,number_students)\n",
    "\n",
    "\n",
    "#print(\"Output After Training: \\n{}\".format(output_layer_outputs))\n",
    "\n",
    "print(\"Matrix of grades-assigments:X1,X2 \\n\")\n",
    "print(\"Matrix of grades-EXAMs: Exam or Y \\n\")\n",
    "print(\"Number of students:\", number_students)\n",
    "print(\"\\n X1 , X2, EXAM, Y_HAT\")\n",
    "print(np.hstack((X, y.T, y_hat.T)))\n",
    "#Total error after 1000 iterations\n",
    "print('Total error',np.sum(output_error))"
   ]
  },
  {
   "cell_type": "code",
   "execution_count": 4,
   "metadata": {},
   "outputs": [
    {
     "data": {
      "text/plain": [
       "(3, 2)"
      ]
     },
     "execution_count": 4,
     "metadata": {},
     "output_type": "execute_result"
    }
   ],
   "source": [
    "hidden_weights.shape"
   ]
  },
  {
   "cell_type": "code",
   "execution_count": null,
   "metadata": {},
   "outputs": [],
   "source": []
  }
 ],
 "metadata": {
  "kernelspec": {
   "display_name": "Python 3",
   "language": "python",
   "name": "python3"
  },
  "language_info": {
   "codemirror_mode": {
    "name": "ipython",
    "version": 3
   },
   "file_extension": ".py",
   "mimetype": "text/x-python",
   "name": "python",
   "nbconvert_exporter": "python",
   "pygments_lexer": "ipython3",
   "version": "3.8.3"
  }
 },
 "nbformat": 4,
 "nbformat_minor": 4
}
