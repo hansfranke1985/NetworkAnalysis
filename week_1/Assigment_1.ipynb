{
 "cells": [
  {
   "cell_type": "markdown",
   "metadata": {},
   "source": [
    "# Lab assignment 1: Image recognition using deep networks\n",
    "## Ben Harvey"
   ]
  },
  {
   "cell_type": "code",
   "execution_count": 1,
   "metadata": {},
   "outputs": [],
   "source": [
    "import tensorflow as tf\n",
    "import keras\n",
    "import pandas as pd\n",
    "import numpy as np\n",
    "import matplotlib.pyplot as plt\n",
    "from keras.preprocessing.image import ImageDataGenerator #preprocessing images"
   ]
  },
  {
   "cell_type": "code",
   "execution_count": 2,
   "metadata": {},
   "outputs": [
    {
     "data": {
      "text/plain": [
       "'2.3.1'"
      ]
     },
     "execution_count": 2,
     "metadata": {},
     "output_type": "execute_result"
    }
   ],
   "source": [
    "tf.__version__"
   ]
  },
  {
   "cell_type": "code",
   "execution_count": 3,
   "metadata": {},
   "outputs": [
    {
     "name": "stdout",
     "output_type": "stream",
     "text": [
      "Device mapping:\n",
      "/job:localhost/replica:0/task:0/device:XLA_CPU:0 -> device: XLA_CPU device\n",
      "/job:localhost/replica:0/task:0/device:XLA_GPU:0 -> device: XLA_GPU device\n",
      "\n"
     ]
    },
    {
     "data": {
      "text/plain": [
       "<tensorflow.python.client.session.Session at 0x1a87ad79c10>"
      ]
     },
     "execution_count": 3,
     "metadata": {},
     "output_type": "execute_result"
    }
   ],
   "source": [
    "sess = tf.compat.v1.Session(config=tf.compat.v1.ConfigProto(log_device_placement=True))\n",
    "sess"
   ]
  },
  {
   "cell_type": "code",
   "execution_count": 4,
   "metadata": {},
   "outputs": [
    {
     "name": "stdout",
     "output_type": "stream",
     "text": [
      "[name: \"/device:CPU:0\"\n",
      "device_type: \"CPU\"\n",
      "memory_limit: 268435456\n",
      "locality {\n",
      "}\n",
      "incarnation: 13887448944522409049\n",
      ", name: \"/device:XLA_CPU:0\"\n",
      "device_type: \"XLA_CPU\"\n",
      "memory_limit: 17179869184\n",
      "locality {\n",
      "}\n",
      "incarnation: 7378035248216827245\n",
      "physical_device_desc: \"device: XLA_CPU device\"\n",
      ", name: \"/device:XLA_GPU:0\"\n",
      "device_type: \"XLA_GPU\"\n",
      "memory_limit: 17179869184\n",
      "locality {\n",
      "}\n",
      "incarnation: 3148362980982455429\n",
      "physical_device_desc: \"device: XLA_GPU device\"\n",
      "]\n"
     ]
    }
   ],
   "source": [
    "from tensorflow.python.client import device_lib\n",
    "print(device_lib.list_local_devices())"
   ]
  },
  {
   "cell_type": "markdown",
   "metadata": {},
   "source": [
    "# Exercise one: Identifying handwritten numbers"
   ]
  },
  {
   "cell_type": "markdown",
   "metadata": {},
   "source": [
    "### Question 1:\n",
    "Discuss with your group, then describe to your teacher, a list of applications where automatic recognition of hand-written numbers would be useful. (Question 1, 3 points)"
   ]
  },
  {
   "cell_type": "markdown",
   "metadata": {},
   "source": [
    "**Answer:**\n",
    "1. Fraud detection: paycheck in banks for example \n",
    "2. Digital scanner: recognition of text (physical) and transform to digital media (.doc .pdf ..) -> same principle of digits but for letters.\n",
    "3. Fraud detection: signature patterns\n"
   ]
  },
  {
   "cell_type": "markdown",
   "metadata": {},
   "source": [
    "## Data Preparation "
   ]
  },
  {
   "cell_type": "code",
   "execution_count": 5,
   "metadata": {},
   "outputs": [],
   "source": [
    "#Load dataset MNIST (labelled handwritten numbers)\n",
    "(x_train, y_train), (x_test, y_test) = keras.datasets.mnist.load_data()"
   ]
  },
  {
   "cell_type": "code",
   "execution_count": 6,
   "metadata": {},
   "outputs": [
    {
     "name": "stdout",
     "output_type": "stream",
     "text": [
      "(60000, 28, 28)\n",
      "(10000, 28, 28)\n"
     ]
    }
   ],
   "source": [
    "#size and shape of training set / test set\n",
    "print((x_train.shape))\n",
    "print((x_test.shape))"
   ]
  },
  {
   "cell_type": "code",
   "execution_count": 7,
   "metadata": {},
   "outputs": [
    {
     "name": "stdout",
     "output_type": "stream",
     "text": [
      "(60000, 784)\n",
      "(10000, 784)\n"
     ]
    }
   ],
   "source": [
    "#Reshape (from 60000x28x28 to 60000x784)\n",
    "x_train = np.reshape(x_train, (60000,784))\n",
    "x_test = np.reshape(x_test, (10000,784))\n",
    "print((x_train.shape))\n",
    "print((x_test.shape))"
   ]
  },
  {
   "cell_type": "code",
   "execution_count": 8,
   "metadata": {},
   "outputs": [],
   "source": [
    "#Rescale (valuews <0,1>)\n",
    "x_train = x_train / 255 #0 = black = 255 = white\n",
    "x_test = x_test / 255"
   ]
  },
  {
   "cell_type": "code",
   "execution_count": 9,
   "metadata": {},
   "outputs": [
    {
     "data": {
      "text/plain": [
       "array([7, 2, 1, ..., 4, 5, 6], dtype=uint8)"
      ]
     },
     "execution_count": 9,
     "metadata": {},
     "output_type": "execute_result"
    }
   ],
   "source": [
    "y_test"
   ]
  },
  {
   "cell_type": "code",
   "execution_count": 10,
   "metadata": {},
   "outputs": [
    {
     "name": "stdout",
     "output_type": "stream",
     "text": [
      "[1. 0. 0. 0. 0. 0. 0. 0. 0. 0.]\n",
      "[0. 0. 1. 0. 0. 0. 0. 0. 0. 0.]\n"
     ]
    }
   ],
   "source": [
    "#labeling\n",
    "y_train = keras.utils.to_categorical(y_train, 10)\n",
    "y_test = keras.utils.to_categorical(y_test, 10)\n",
    "print(y_train[1])\n",
    "print(y_test[1])\n"
   ]
  },
  {
   "cell_type": "markdown",
   "metadata": {},
   "source": [
    "## Model Definition"
   ]
  },
  {
   "cell_type": "code",
   "execution_count": 11,
   "metadata": {},
   "outputs": [
    {
     "name": "stdout",
     "output_type": "stream",
     "text": [
      "Model: \"sequential\"\n",
      "_________________________________________________________________\n",
      "Layer (type)                 Output Shape              Param #   \n",
      "=================================================================\n",
      "dense (Dense)                (None, 256)               200960    \n",
      "_________________________________________________________________\n",
      "dense_1 (Dense)              (None, 10)                2570      \n",
      "=================================================================\n",
      "Total params: 203,530\n",
      "Trainable params: 203,530\n",
      "Non-trainable params: 0\n",
      "_________________________________________________________________\n"
     ]
    }
   ],
   "source": [
    "model = keras.Sequential()\n",
    "model.add(keras.layers.Dense(256, input_shape=(784,)))\n",
    "model.add(keras.layers.Dense(10, activation='softmax'))\n",
    "model.summary()"
   ]
  },
  {
   "cell_type": "code",
   "execution_count": 12,
   "metadata": {},
   "outputs": [],
   "source": [
    "model.compile(loss='categorical_crossentropy',\n",
    "    optimizer=keras.optimizers.RMSprop(), metrics='accuracy')\n"
   ]
  },
  {
   "cell_type": "markdown",
   "metadata": {},
   "source": [
    "## Training and Evaluation"
   ]
  },
  {
   "cell_type": "code",
   "execution_count": 13,
   "metadata": {},
   "outputs": [
    {
     "name": "stdout",
     "output_type": "stream",
     "text": [
      "Epoch 1/12\n",
      "375/375 [==============================] - 1s 2ms/step - loss: 0.3985 - accuracy: 0.8856 - val_loss: 0.3086 - val_accuracy: 0.9100\n",
      "Epoch 2/12\n",
      "375/375 [==============================] - 1s 1ms/step - loss: 0.3069 - accuracy: 0.9126 - val_loss: 0.2920 - val_accuracy: 0.9185\n",
      "Epoch 3/12\n",
      "375/375 [==============================] - 1s 1ms/step - loss: 0.2939 - accuracy: 0.9180 - val_loss: 0.2818 - val_accuracy: 0.9229\n",
      "Epoch 4/12\n",
      "375/375 [==============================] - 1s 2ms/step - loss: 0.2863 - accuracy: 0.9197 - val_loss: 0.2779 - val_accuracy: 0.9249\n",
      "Epoch 5/12\n",
      "375/375 [==============================] - 1s 2ms/step - loss: 0.2818 - accuracy: 0.9202 - val_loss: 0.2756 - val_accuracy: 0.9238\n",
      "Epoch 6/12\n",
      "375/375 [==============================] - 1s 2ms/step - loss: 0.2765 - accuracy: 0.9236 - val_loss: 0.2723 - val_accuracy: 0.9280\n",
      "Epoch 7/12\n",
      "375/375 [==============================] - 1s 2ms/step - loss: 0.2740 - accuracy: 0.9237 - val_loss: 0.2766 - val_accuracy: 0.9262\n",
      "Epoch 8/12\n",
      "375/375 [==============================] - 1s 2ms/step - loss: 0.2709 - accuracy: 0.9250 - val_loss: 0.2748 - val_accuracy: 0.9243\n",
      "Epoch 9/12\n",
      "375/375 [==============================] - 1s 2ms/step - loss: 0.2688 - accuracy: 0.9254 - val_loss: 0.2854 - val_accuracy: 0.9218\n",
      "Epoch 10/12\n",
      "375/375 [==============================] - 1s 2ms/step - loss: 0.2672 - accuracy: 0.9257 - val_loss: 0.2769 - val_accuracy: 0.9258\n",
      "Epoch 11/12\n",
      "375/375 [==============================] - 1s 2ms/step - loss: 0.2656 - accuracy: 0.9263 - val_loss: 0.2779 - val_accuracy: 0.9261\n",
      "Epoch 12/12\n",
      "375/375 [==============================] - 1s 2ms/step - loss: 0.2633 - accuracy: 0.9270 - val_loss: 0.2764 - val_accuracy: 0.9261\n"
     ]
    }
   ],
   "source": [
    "history = model.fit(x_train, y_train, batch_size=128, \n",
    "                    epochs=12, verbose=1, validation_split=0.2)"
   ]
  },
  {
   "cell_type": "markdown",
   "metadata": {},
   "source": [
    "### Questions 2-6\n",
    "\n",
    "1. Show your teacher the text from your console, with how long it took for each epoch to run and the training performance history. (Question 2, 5 points)\n",
    "2. Plot the training history and show this to your teacher (Question 3, 3 points)\n",
    "3. Discuss with your group, then describe to your teacher, how the accuracy on the training and validation sets progress differently across epochs, and what this tells us about the generalisation of the model. (Question 4, 5 points).\n",
    "4. Evaluate the model performance on the test set using the following command: loss, accuracy = model.evaluate(x_test, y_test, verbose=0) Show your teacher what values you get for the model’s accuracy and loss. (Question 5, 2 points)\n",
    "5. Discuss with your group, then describe to your teacher, whether this accuracy is sufficient for some uses of automatic hand-written digit classification. (Question 6, 5 points) "
   ]
  },
  {
   "cell_type": "markdown",
   "metadata": {},
   "source": [
    "### Question 2:\n",
    "\n",
    "Look the table above it shows how much time by epoch(run all over the dataset) 2ms/step and some epochs with 1ms/step."
   ]
  },
  {
   "cell_type": "code",
   "execution_count": 44,
   "metadata": {},
   "outputs": [
    {
     "name": "stdout",
     "output_type": "stream",
     "text": [
      "dict_keys(['loss', 'accuracy', 'val_loss', 'val_accuracy'])\n"
     ]
    },
    {
     "data": {
      "text/plain": [
       "<matplotlib.legend.Legend at 0x1a80d86f2e0>"
      ]
     },
     "execution_count": 44,
     "metadata": {},
     "output_type": "execute_result"
    },
    {
     "data": {
      "image/png": "[encoded data removed]",
      "text/plain": [
       "<Figure size 432x288 with 1 Axes>"
      ]
     },
     "metadata": {
      "needs_background": "light"
     },
     "output_type": "display_data"
    }
   ],
   "source": [
    "# Question 3:\n",
    "#plot the models\n",
    "print(history.history.keys()) #list the dict keys\n",
    "\n",
    "#Accuracy\n",
    "plt.title('model accuracy')\n",
    "plt.ylabel('accuracy')\n",
    "plt.xlabel('epoch')\n",
    "plt.plot(history.history['accuracy'], label = 'accuracy')\n",
    "plt.plot(history.history['val_accuracy'], label = 'val_accuracy')\n",
    "\n",
    "plt.legend()"
   ]
  },
  {
   "cell_type": "markdown",
   "metadata": {},
   "source": [
    "### Question 4. \n",
    "\n",
    "The progress in training set is improving by each epoch, but the test_set is not so fast, on the other hand is already starts high. So we conclude that generalization of the model is not good, because the accuracy in test set is almost the same on every epoch, so probably when we use this model on a new set they will have the same % (92% is to low). In the first epochs the model seems underfitted, but latter on they convert (almost same accuracy)."
   ]
  },
  {
   "cell_type": "code",
   "execution_count": 50,
   "metadata": {},
   "outputs": [
    {
     "name": "stdout",
     "output_type": "stream",
     "text": [
      "Loss 0.287\n",
      "accuracy 0.923\n"
     ]
    }
   ],
   "source": [
    "#Question 5:\n",
    "#Evaluating the model in test set\n",
    "loss, accuracy= model.evaluate(x=x_test, y=y_test, verbose=0)\n",
    "print('Loss', round(loss,3))\n",
    "print('accuracy', round(accuracy,3))"
   ]
  },
  {
   "cell_type": "markdown",
   "metadata": {},
   "source": [
    "### Question 6:\n",
    "This is not sufficient, as an example a bank that in 8% of the numbers put different balances on client account? But it depends on the application that you are modeling, some cases with small datasets or hard modelling this accuracy can be acceptable. But we think every model can be improved."
   ]
  },
  {
   "cell_type": "markdown",
   "metadata": {},
   "source": [
    "### Question 7:\n",
    "Discuss with your group, then describe to your\n",
    "teacher, how linear activation of units limits the possible computations this model can\n",
    "perform. (Question 7, 5 points)"
   ]
  },
  {
   "cell_type": "markdown",
   "metadata": {},
   "source": [
    "**answer**\n",
    "\n",
    "Even though we can connect a few neurons and e.g. make decisions on the max or sofmax of multiple neurons, this is a limiting approach. The gradient has not relationship with X (A = cx) as it is constant. This means that if there is an error in prediction (which there will be) then we cannot make changes depending on the input but only constant changes.\n",
    "\n",
    "Also each layer is activated by a linear function. So each layers activation goes into the next level as input to calculate the weighted sum and then fires on a linear function etc. So no matter how many layers there is, if they are linear in nature the final activation function is still a linear function of the very first layer.\n",
    "\n",
    "Basically, with linear activation there is no point in adding layers as they are all dependent on the first layer. This makes the model very simple which of course can be good for some approaches but denies the chance of complex relationships within the model."
   ]
  },
  {
   "cell_type": "markdown",
   "metadata": {},
   "source": [
    "## Change Model Parameters"
   ]
  },
  {
   "cell_type": "code",
   "execution_count": 16,
   "metadata": {},
   "outputs": [],
   "source": [
    "# Refit with activation funcion RELU (Non-linear)"
   ]
  },
  {
   "cell_type": "code",
   "execution_count": 17,
   "metadata": {},
   "outputs": [
    {
     "name": "stdout",
     "output_type": "stream",
     "text": [
      "Model: \"sequential_1\"\n",
      "_________________________________________________________________\n",
      "Layer (type)                 Output Shape              Param #   \n",
      "=================================================================\n",
      "dense_2 (Dense)              (None, 256)               200960    \n",
      "_________________________________________________________________\n",
      "dense_3 (Dense)              (None, 10)                2570      \n",
      "=================================================================\n",
      "Total params: 203,530\n",
      "Trainable params: 203,530\n",
      "Non-trainable params: 0\n",
      "_________________________________________________________________\n",
      "Epoch 1/12\n",
      "375/375 [==============================] - 1s 2ms/step - loss: 0.3156 - accuracy: 0.9113 - val_loss: 0.1727 - val_accuracy: 0.9526\n",
      "Epoch 2/12\n",
      "375/375 [==============================] - 1s 2ms/step - loss: 0.1404 - accuracy: 0.9591 - val_loss: 0.1175 - val_accuracy: 0.9668\n",
      "Epoch 3/12\n",
      "375/375 [==============================] - 1s 2ms/step - loss: 0.0951 - accuracy: 0.9719 - val_loss: 0.1000 - val_accuracy: 0.9701\n",
      "Epoch 4/12\n",
      "375/375 [==============================] - 1s 2ms/step - loss: 0.0712 - accuracy: 0.9791 - val_loss: 0.0992 - val_accuracy: 0.9695\n",
      "Epoch 5/12\n",
      "375/375 [==============================] - 1s 2ms/step - loss: 0.0551 - accuracy: 0.9842 - val_loss: 0.0845 - val_accuracy: 0.9743\n",
      "Epoch 6/12\n",
      "375/375 [==============================] - 1s 2ms/step - loss: 0.0435 - accuracy: 0.9875 - val_loss: 0.0859 - val_accuracy: 0.9746\n",
      "Epoch 7/12\n",
      "375/375 [==============================] - 1s 2ms/step - loss: 0.0351 - accuracy: 0.9899 - val_loss: 0.0884 - val_accuracy: 0.9748\n",
      "Epoch 8/12\n",
      "375/375 [==============================] - 1s 2ms/step - loss: 0.0285 - accuracy: 0.9919 - val_loss: 0.0894 - val_accuracy: 0.9745\n",
      "Epoch 9/12\n",
      "375/375 [==============================] - 1s 2ms/step - loss: 0.0233 - accuracy: 0.9936 - val_loss: 0.0862 - val_accuracy: 0.9766\n",
      "Epoch 10/12\n",
      "375/375 [==============================] - 1s 2ms/step - loss: 0.0188 - accuracy: 0.9948 - val_loss: 0.0917 - val_accuracy: 0.9753\n",
      "Epoch 11/12\n",
      "375/375 [==============================] - 1s 2ms/step - loss: 0.0153 - accuracy: 0.9960 - val_loss: 0.0905 - val_accuracy: 0.9767\n",
      "Epoch 12/12\n",
      "375/375 [==============================] - 1s 2ms/step - loss: 0.0121 - accuracy: 0.9970 - val_loss: 0.0948 - val_accuracy: 0.9768\n"
     ]
    }
   ],
   "source": [
    "model2 = keras.Sequential()\n",
    "model2.add(keras.layers.Dense(256, input_shape=(784,), activation='relu')) #first hidden layer\n",
    "model2.add(keras.layers.Dense(10, activation='softmax')) #output layer\n",
    "model2.summary()\n",
    "\n",
    "#compile\n",
    "model2.compile(loss='categorical_crossentropy', \n",
    "               optimizer=keras.optimizers.RMSprop(), metrics='accuracy')\n",
    "\n",
    "#fit / trainning\n",
    "history2 = model2.fit(x_train, y_train, batch_size=128, \n",
    "                    epochs=12, verbose=1, validation_split=0.2)\n"
   ]
  },
  {
   "cell_type": "markdown",
   "metadata": {},
   "source": [
    "### Question 8: \n",
    "Plot the training history and show it to your teacher"
   ]
  },
  {
   "cell_type": "code",
   "execution_count": 18,
   "metadata": {},
   "outputs": [
    {
     "name": "stdout",
     "output_type": "stream",
     "text": [
      "dict_keys(['loss', 'accuracy', 'val_loss', 'val_accuracy'])\n"
     ]
    },
    {
     "data": {
      "text/plain": [
       "<matplotlib.legend.Legend at 0x1a80d3f0880>"
      ]
     },
     "execution_count": 18,
     "metadata": {},
     "output_type": "execute_result"
    },
    {
     "data": {
      "image/png": "[encoded data removed]",
      "text/plain": [
       "<Figure size 432x288 with 1 Axes>"
      ]
     },
     "metadata": {
      "needs_background": "light"
     },
     "output_type": "display_data"
    }
   ],
   "source": [
    "#plot the models\n",
    "print(history.history.keys()) #list the dict keys\n",
    "\n",
    "#Accuracy\n",
    "plt.title('model accuracy')\n",
    "plt.ylabel('accuracy')\n",
    "plt.xlabel('epoch')\n",
    "plt.plot(history.history['accuracy'], label = 'model1')\n",
    "plt.plot(history2.history['accuracy'], label ='model2')\n",
    "plt.legend()\n",
    "\n"
   ]
  },
  {
   "cell_type": "code",
   "execution_count": 19,
   "metadata": {},
   "outputs": [
    {
     "data": {
      "text/plain": [
       "<matplotlib.legend.Legend at 0x1a80d83afd0>"
      ]
     },
     "execution_count": 19,
     "metadata": {},
     "output_type": "execute_result"
    },
    {
     "data": {
      "image/png": "[encoded data removed]",
      "text/plain": [
       "<Figure size 432x288 with 1 Axes>"
      ]
     },
     "metadata": {
      "needs_background": "light"
     },
     "output_type": "display_data"
    }
   ],
   "source": [
    "#loss\n",
    "plt.title('loss')\n",
    "plt.ylabel('accuracy')\n",
    "plt.xlabel('epoch')\n",
    "plt.plot(history.history['loss'], label = 'model1')\n",
    "plt.plot(history2.history['loss'], label ='model2')\n",
    "plt.legend()"
   ]
  },
  {
   "cell_type": "code",
   "execution_count": 20,
   "metadata": {},
   "outputs": [
    {
     "name": "stdout",
     "output_type": "stream",
     "text": [
      "313/313 [==============================] - 0s 478us/step - loss: 0.2870 - accuracy: 0.9234\n",
      "[0.2870391011238098, 0.9233999848365784]\n",
      "313/313 [==============================] - 0s 497us/step - loss: 0.0740 - accuracy: 0.9792\n",
      "[0.07401446253061295, 0.979200005531311]\n"
     ]
    }
   ],
   "source": [
    "#Evaluating the model in test set\n",
    "print(model.evaluate(x=x_test, y=y_test))\n",
    "print(model2.evaluate(x=x_test, y=y_test))"
   ]
  },
  {
   "cell_type": "markdown",
   "metadata": {},
   "source": [
    "### Question 9: \n",
    "Discuss with your group, then describe to your teacher, how this training history\n",
    "differs from the previous model, for the training and validation sets. Describe what\n",
    "this tells us about the generalisation of the model."
   ]
  },
  {
   "cell_type": "markdown",
   "metadata": {},
   "source": [
    "**Answer:**\n",
    "\n",
    "The non-linear model 2 performs significantly better than the first model. The validation loss from Model 1 (0.2844) decreases significantly (0.0847) and the model accuracy increases by almost 5%. Still there was quite the gap between the validation and the training data, showing that both models even though they were imporved, may not be well suited for a general use. The first model as linear the performance dont change too much in train and test set, but the non-linear function improves it by almost 5%."
   ]
  },
  {
   "cell_type": "markdown",
   "metadata": {},
   "source": [
    "## Test a Single Image"
   ]
  },
  {
   "cell_type": "code",
   "execution_count": 73,
   "metadata": {},
   "outputs": [
    {
     "name": "stdout",
     "output_type": "stream",
     "text": [
      "# 0 0.0\n",
      "# 1 0.0\n",
      "# 2 0.43\n",
      "# 3 0.55\n",
      "# 4 0.01\n",
      "# 5 0.0\n",
      "# 6 0.0\n",
      "# 7 0.0\n",
      "# 8 0.01\n",
      "# 9 0.0\n",
      "\n",
      " Image Loaded:\n"
     ]
    },
    {
     "data": {
      "image/png": "[encoded data removed]",
      "text/plain": [
       "<PIL.Image.Image image mode=L size=28x28 at 0x1A80D87B9A0>"
      ]
     },
     "execution_count": 73,
     "metadata": {},
     "output_type": "execute_result"
    }
   ],
   "source": [
    "#LOADING IMAGE (SHOULD BE SAVE IN 28X28)\n",
    "path = r'C:\\Users\\hansf\\Documents\\GitHub\\NetworkAnalysis\\week_1\\7.png'\n",
    "image = tf.keras.preprocessing.image.load_img(path, color_mode='grayscale')\n",
    "image = image.resize((28, 28))\n",
    "input_arr = keras.preprocessing.image.img_to_array(image)\n",
    "input_arr = np.array([input_arr])  # Convert single image to a batch.\n",
    "#input_arr = np.reshape(input_arr, (784,)) #convert to same as input\n",
    "input_arr = input_arr / 255\n",
    "predictions = model2.predict(input_arr.reshape(1,784))\n",
    "\n",
    "#probabilities of each number!\n",
    "for i in range(0,10):\n",
    "    print('#',i,round(predictions[0][i],2))\n",
    "#show input image\n",
    "print(\"\\n Image Loaded:\")\n",
    "\n",
    "image\n"
   ]
  },
  {
   "cell_type": "code",
   "execution_count": 72,
   "metadata": {},
   "outputs": [
    {
     "data": {
      "text/plain": [
       "array([[3.3367993e-03, 9.0235422e-05, 4.2529452e-01, 5.4574090e-01,\n",
       "        1.1230693e-02, 2.3399139e-04, 2.8371708e-03, 1.1654385e-05,\n",
       "        1.1020805e-02, 2.0332646e-04]], dtype=float32)"
      ]
     },
     "execution_count": 72,
     "metadata": {},
     "output_type": "execute_result"
    }
   ],
   "source": [
    "predictions\n"
   ]
  },
  {
   "cell_type": "code",
   "execution_count": 29,
   "metadata": {},
   "outputs": [
    {
     "data": {
      "text/plain": [
       "array([[1.0135305e-10, 3.0649782e-12, 4.5968935e-08, 3.0322277e-04,\n",
       "        2.1681168e-15, 6.9394734e-10, 7.3845821e-17, 9.9969673e-01,\n",
       "        7.4642532e-09, 7.9875635e-09]], dtype=float32)"
      ]
     },
     "execution_count": 29,
     "metadata": {},
     "output_type": "execute_result"
    }
   ],
   "source": [
    "model2.predict(x_test[0].reshape(1,784))"
   ]
  },
  {
   "cell_type": "code",
   "execution_count": 34,
   "metadata": {},
   "outputs": [
    {
     "name": "stdout",
     "output_type": "stream",
     "text": [
      "Prediction row 5934\n",
      "# 0 0.0\n",
      "# 1 0.0\n",
      "# 2 0.999\n",
      "# 3 0.0\n",
      "# 4 0.0\n",
      "# 5 0.0\n",
      "# 6 0.0\n",
      "# 7 0.0\n",
      "# 8 0.0\n",
      "# 9 0.0\n",
      "Real Values\n",
      "# 0 0.0\n",
      "# 1 0.0\n",
      "# 2 1.0\n",
      "# 3 0.0\n",
      "# 4 0.0\n",
      "# 5 0.0\n",
      "# 6 0.0\n",
      "# 7 0.0\n",
      "# 8 0.0\n",
      "# 9 0.0\n"
     ]
    },
    {
     "data": {
      "image/png": "[encoded data removed]",
      "text/plain": [
       "<PIL.Image.Image image mode=L size=28x28 at 0x1A80D99C790>"
      ]
     },
     "metadata": {},
     "output_type": "display_data"
    },
    {
     "name": "stdout",
     "output_type": "stream",
     "text": [
      "check with argmax 2\n",
      "\n",
      "Prediction row 7376\n",
      "# 0 0.0\n",
      "# 1 0.0\n",
      "# 2 0.0\n",
      "# 3 0.0\n",
      "# 4 1.0\n",
      "# 5 0.0\n",
      "# 6 0.0\n",
      "# 7 0.0\n",
      "# 8 0.0\n",
      "# 9 0.0\n",
      "Real Values\n",
      "# 0 0.0\n",
      "# 1 0.0\n",
      "# 2 0.0\n",
      "# 3 0.0\n",
      "# 4 1.0\n",
      "# 5 0.0\n",
      "# 6 0.0\n",
      "# 7 0.0\n",
      "# 8 0.0\n",
      "# 9 0.0\n"
     ]
    },
    {
     "data": {
      "image/png": "[encoded data removed]",
      "text/plain": [
       "<PIL.Image.Image image mode=L size=28x28 at 0x1A80D0704F0>"
      ]
     },
     "metadata": {},
     "output_type": "display_data"
    },
    {
     "name": "stdout",
     "output_type": "stream",
     "text": [
      "check with argmax 4\n",
      "\n",
      "Prediction row 8797\n",
      "# 0 0.0\n",
      "# 1 0.0\n",
      "# 2 0.0\n",
      "# 3 0.0\n",
      "# 4 1.0\n",
      "# 5 0.0\n",
      "# 6 0.0\n",
      "# 7 0.0\n",
      "# 8 0.0\n",
      "# 9 0.0\n",
      "Real Values\n",
      "# 0 0.0\n",
      "# 1 0.0\n",
      "# 2 0.0\n",
      "# 3 0.0\n",
      "# 4 1.0\n",
      "# 5 0.0\n",
      "# 6 0.0\n",
      "# 7 0.0\n",
      "# 8 0.0\n",
      "# 9 0.0\n"
     ]
    },
    {
     "data": {
      "image/png": "[encoded data removed]",
      "text/plain": [
       "<PIL.Image.Image image mode=L size=28x28 at 0x1A80D8D2F10>"
      ]
     },
     "metadata": {},
     "output_type": "display_data"
    },
    {
     "name": "stdout",
     "output_type": "stream",
     "text": [
      "check with argmax 4\n",
      "\n",
      "Prediction row 3391\n",
      "# 0 0.0\n",
      "# 1 0.0\n",
      "# 2 0.0\n",
      "# 3 0.0\n",
      "# 4 0.0\n",
      "# 5 0.0\n",
      "# 6 1.0\n",
      "# 7 0.0\n",
      "# 8 0.0\n",
      "# 9 0.0\n",
      "Real Values\n",
      "# 0 0.0\n",
      "# 1 0.0\n",
      "# 2 0.0\n",
      "# 3 0.0\n",
      "# 4 0.0\n",
      "# 5 0.0\n",
      "# 6 1.0\n",
      "# 7 0.0\n",
      "# 8 0.0\n",
      "# 9 0.0\n"
     ]
    },
    {
     "data": {
      "image/png": "[encoded data removed]",
      "text/plain": [
       "<PIL.Image.Image image mode=L size=28x28 at 0x1A80D453730>"
      ]
     },
     "metadata": {},
     "output_type": "display_data"
    },
    {
     "name": "stdout",
     "output_type": "stream",
     "text": [
      "check with argmax 6\n",
      "\n",
      "Prediction row 2408\n",
      "# 0 0.0\n",
      "# 1 0.0\n",
      "# 2 0.0\n",
      "# 3 0.998\n",
      "# 4 0.0\n",
      "# 5 0.0\n",
      "# 6 0.0\n",
      "# 7 0.0\n",
      "# 8 0.0\n",
      "# 9 0.002\n",
      "Real Values\n",
      "# 0 0.0\n",
      "# 1 0.0\n",
      "# 2 0.0\n",
      "# 3 1.0\n",
      "# 4 0.0\n",
      "# 5 0.0\n",
      "# 6 0.0\n",
      "# 7 0.0\n",
      "# 8 0.0\n",
      "# 9 0.0\n"
     ]
    },
    {
     "data": {
      "image/png": "[encoded data removed]",
      "text/plain": [
       "<PIL.Image.Image image mode=L size=28x28 at 0x1A80D3A5F70>"
      ]
     },
     "metadata": {},
     "output_type": "display_data"
    },
    {
     "name": "stdout",
     "output_type": "stream",
     "text": [
      "check with argmax 3\n",
      "\n"
     ]
    }
   ],
   "source": [
    "import random\n",
    "#select 5 random images to predict and compare with real values\n",
    "for i in range(0,5):\n",
    "    \n",
    "    row_number = random.randint(0, 10000)\n",
    "    predictions = model2.predict(x_test[row_number].reshape(1,784))\n",
    "\n",
    "    print('Prediction row', row_number)\n",
    "    #probabilities of each number!\n",
    "    for i in range(0,10):\n",
    "        print('#',i,round(predictions[0][i],3))\n",
    "    #show input image\n",
    "    #image\n",
    "    print('Real Values')\n",
    "    #probabilities of each number!\n",
    "    for i in range(0,10):\n",
    "        print('#',i,round(y_test[row_number][i],2))\n",
    "    #show input image\n",
    "    img = tf.keras.preprocessing.image.array_to_img(x_test[row_number].reshape(28,28,1))\n",
    "    display(img)\n",
    "    \n",
    "    print(\"check with argmax\", np.argmax(predictions))\n",
    "    print()"
   ]
  },
  {
   "cell_type": "code",
   "execution_count": null,
   "metadata": {},
   "outputs": [],
   "source": []
  }
 ],
 "metadata": {
  "kernelspec": {
   "display_name": "Python 3",
   "language": "python",
   "name": "python3"
  },
  "language_info": {
   "codemirror_mode": {
    "name": "ipython",
    "version": 3
   },
   "file_extension": ".py",
   "mimetype": "text/x-python",
   "name": "python",
   "nbconvert_exporter": "python",
   "pygments_lexer": "ipython3",
   "version": "3.8.3"
  }
 },
 "nbformat": 4,
 "nbformat_minor": 4
}
