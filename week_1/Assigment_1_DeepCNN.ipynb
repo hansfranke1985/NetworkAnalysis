{
 "cells": [
  {
   "cell_type": "code",
   "execution_count": 1,
   "metadata": {},
   "outputs": [],
   "source": [
    "import tensorflow as tf\n",
    "import keras\n",
    "import pandas as pd\n",
    "import numpy as np\n",
    "import matplotlib.pyplot as plt\n",
    "from keras.preprocessing.image import ImageDataGenerator #preprocessing images"
   ]
  },
  {
   "cell_type": "markdown",
   "metadata": {},
   "source": [
    "# Data preparation\n",
    "\n",
    "Reshape x_train\n",
    "to size 60000, 28, 28, 1. Reshape x_test to size 10000, 28, 28, 1. Rescale both\n",
    "results to values between zero and one as before. y_train and y_test are categorical\n",
    "units, as before."
   ]
  },
  {
   "cell_type": "code",
   "execution_count": 2,
   "metadata": {},
   "outputs": [],
   "source": [
    "(x_train, y_train), (x_test, y_test) = keras.datasets.mnist.load_data()"
   ]
  },
  {
   "cell_type": "code",
   "execution_count": 3,
   "metadata": {},
   "outputs": [
    {
     "data": {
      "text/plain": [
       "(60000,)"
      ]
     },
     "execution_count": 3,
     "metadata": {},
     "output_type": "execute_result"
    }
   ],
   "source": [
    "y_train.shape"
   ]
  },
  {
   "cell_type": "code",
   "execution_count": 4,
   "metadata": {},
   "outputs": [
    {
     "name": "stdout",
     "output_type": "stream",
     "text": [
      "(60000, 28, 28, 1)\n",
      "(10000, 28, 28, 1)\n"
     ]
    }
   ],
   "source": [
    "#Reshape (from 60000x28x28 to 60000x28x28x1)\n",
    "x_train = np.reshape(x_train, (60000,28,28,1))\n",
    "x_test = np.reshape(x_test, (10000,28,28,1))\n",
    "\n",
    "print((x_train.shape))\n",
    "print((x_test.shape))"
   ]
  },
  {
   "cell_type": "code",
   "execution_count": 5,
   "metadata": {},
   "outputs": [],
   "source": [
    "#Rescale\n",
    "x_train = x_train / 255\n",
    "x_test = x_test / 255\n",
    "\n",
    "#Categorical\n",
    "y_train = keras.utils.to_categorical(y_train, 10)\n",
    "y_test = keras.utils.to_categorical(y_test, 10)"
   ]
  },
  {
   "cell_type": "code",
   "execution_count": 6,
   "metadata": {},
   "outputs": [],
   "source": [
    "model = keras.Sequential()\n",
    "model.add(keras.layers.Conv2D(filters=32, kernel_size=(3, 3),\n",
    "                              activation=\"relu\", input_shape=(28, 28, 1)))\n",
    "model.add(keras.layers.Conv2D(filters=64, kernel_size=(3, 3), \n",
    "                              activation=\"relu\"))\n",
    "model.add(keras.layers.MaxPool2D(pool_size=(2, 2)))\n",
    "model.add(keras.layers.Flatten())\n",
    "model.add(keras.layers.Dense(128, activation=\"relu\")) \n",
    "model.add(keras.layers.Dense(10, activation=\"softmax\")) #output layer\n"
   ]
  },
  {
   "cell_type": "code",
   "execution_count": 7,
   "metadata": {},
   "outputs": [
    {
     "name": "stdout",
     "output_type": "stream",
     "text": [
      "Model: \"sequential\"\n",
      "_________________________________________________________________\n",
      "Layer (type)                 Output Shape              Param #   \n",
      "=================================================================\n",
      "conv2d (Conv2D)              (None, 26, 26, 32)        320       \n",
      "_________________________________________________________________\n",
      "conv2d_1 (Conv2D)            (None, 24, 24, 64)        18496     \n",
      "_________________________________________________________________\n",
      "max_pooling2d (MaxPooling2D) (None, 12, 12, 64)        0         \n",
      "_________________________________________________________________\n",
      "flatten (Flatten)            (None, 9216)              0         \n",
      "_________________________________________________________________\n",
      "dense (Dense)                (None, 128)               1179776   \n",
      "_________________________________________________________________\n",
      "dense_1 (Dense)              (None, 10)                1290      \n",
      "=================================================================\n",
      "Total params: 1,199,882\n",
      "Trainable params: 1,199,882\n",
      "Non-trainable params: 0\n",
      "_________________________________________________________________\n"
     ]
    }
   ],
   "source": [
    "model.summary()"
   ]
  },
  {
   "cell_type": "code",
   "execution_count": 8,
   "metadata": {},
   "outputs": [],
   "source": [
    "#Compile the Model:\n",
    "model.compile(loss='categorical_crossentropy',\n",
    "   optimizer=keras.optimizers.Adadelta(learning_rate=1), metrics='accuracy')\n"
   ]
  },
  {
   "cell_type": "code",
   "execution_count": 9,
   "metadata": {},
   "outputs": [
    {
     "name": "stdout",
     "output_type": "stream",
     "text": [
      "Epoch 1/6\n",
      "375/375 [==============================] - 10s 11ms/step - loss: 0.5270 - accuracy: 0.8405 - val_loss: 0.0680 - val_accuracy: 0.9798\n",
      "Epoch 2/6\n",
      "375/375 [==============================] - 3s 8ms/step - loss: 0.0614 - accuracy: 0.9810 - val_loss: 0.0513 - val_accuracy: 0.9847\n",
      "Epoch 3/6\n",
      "375/375 [==============================] - 3s 8ms/step - loss: 0.0339 - accuracy: 0.9901 - val_loss: 0.0509 - val_accuracy: 0.9860\n",
      "Epoch 4/6\n",
      "375/375 [==============================] - 3s 8ms/step - loss: 0.0223 - accuracy: 0.9929 - val_loss: 0.0428 - val_accuracy: 0.9870\n",
      "Epoch 5/6\n",
      "375/375 [==============================] - 3s 9ms/step - loss: 0.0139 - accuracy: 0.9963 - val_loss: 0.0438 - val_accuracy: 0.9875\n",
      "Epoch 6/6\n",
      "375/375 [==============================] - 3s 8ms/step - loss: 0.0083 - accuracy: 0.9978 - val_loss: 0.0456 - val_accuracy: 0.9874\n"
     ]
    }
   ],
   "source": [
    "# Fit the model\n",
    "history = model.fit(x_train, y_train, batch_size=128, \n",
    "                    epochs=6, verbose=1, validation_split=0.2)"
   ]
  },
  {
   "cell_type": "markdown",
   "metadata": {},
   "source": [
    "## Question 10: \n",
    "Plot the training history and show this to your teacher."
   ]
  },
  {
   "cell_type": "code",
   "execution_count": 10,
   "metadata": {},
   "outputs": [
    {
     "data": {
      "text/plain": [
       "<matplotlib.legend.Legend at 0x289797da790>"
      ]
     },
     "execution_count": 10,
     "metadata": {},
     "output_type": "execute_result"
    },
    {
     "data": {
      "image/png": "[encoded data removed]",
      "text/plain": [
       "<Figure size 432x288 with 1 Axes>"
      ]
     },
     "metadata": {
      "needs_background": "light"
     },
     "output_type": "display_data"
    }
   ],
   "source": [
    "#Accuracy\n",
    "plt.title('model accuracy')\n",
    "plt.ylabel('accuracy')\n",
    "plt.xlabel('epoch')\n",
    "plt.plot(history.history['accuracy'], label = 'accuracy')\n",
    "plt.plot(history.history['val_accuracy'], label = 'val_accuracy')\n",
    "\n",
    "plt.legend()"
   ]
  },
  {
   "cell_type": "code",
   "execution_count": 11,
   "metadata": {},
   "outputs": [
    {
     "data": {
      "text/plain": [
       "<matplotlib.legend.Legend at 0x2897eaf7ca0>"
      ]
     },
     "execution_count": 11,
     "metadata": {},
     "output_type": "execute_result"
    },
    {
     "data": {
      "image/png": "[encoded data removed]",
      "text/plain": [
       "<Figure size 432x288 with 1 Axes>"
      ]
     },
     "metadata": {
      "needs_background": "light"
     },
     "output_type": "display_data"
    }
   ],
   "source": [
    "#Loss\n",
    "plt.title('LOSS')\n",
    "plt.ylabel('accuracy')\n",
    "plt.xlabel('epoch')\n",
    "plt.plot(history.history['loss'], label = 'accuracy')\n",
    "plt.plot(history.history['val_loss'], label = 'val_accuracy')\n",
    "\n",
    "plt.legend()"
   ]
  },
  {
   "cell_type": "markdown",
   "metadata": {},
   "source": [
    "### Question 11: \n",
    "Discuss with your group, then describe to your teacher, how the training history\n",
    "differs from the previous model, for the training and validation sets. What does this\n",
    "tell us about the generalisation of the model?"
   ]
  },
  {
   "cell_type": "markdown",
   "metadata": {},
   "source": [
    "**Answer:** \n",
    "The accuracy of the model improved significantly compared to the previous models. Even after the first epoch both the training and the test data jumped to over 0.98. However, while the training data still showed an increase in accuracy for the model, the test data barely imporved after the first epoch. As the accuracy of the training data is higher than the test data one would have to assume that the model is slightly overfitted, but for this example is nice **~1% overfitting**."
   ]
  },
  {
   "cell_type": "markdown",
   "metadata": {},
   "source": [
    "### Question 12:\n",
    "Show your teacher what values you get for the model’s accuracy and loss. (Question\n",
    "12, 2 points)"
   ]
  },
  {
   "cell_type": "code",
   "execution_count": 26,
   "metadata": {},
   "outputs": [],
   "source": [
    "loss, accuracy = model.evaluate(x_test, y_test, verbose=0)"
   ]
  },
  {
   "cell_type": "code",
   "execution_count": 27,
   "metadata": {},
   "outputs": [
    {
     "name": "stdout",
     "output_type": "stream",
     "text": [
      "0.03453595191240311\n",
      "0.9896000027656555\n"
     ]
    }
   ],
   "source": [
    "print(loss)\n",
    "print(accuracy)"
   ]
  },
  {
   "cell_type": "markdown",
   "metadata": {},
   "source": [
    "### Question 13: \n",
    "Discuss with your group, then describe to your teacher, whether this accuracy is\n",
    "sufficient for some uses of automatic hand-written digit classification. (Question 13, 5\n",
    "points)"
   ]
  },
  {
   "cell_type": "markdown",
   "metadata": {},
   "source": [
    "**Answer**:\n",
    "\n",
    "98,8% accuracy is good to detect digit classification, now we can **assume** that our model will work well in new data.\n",
    "(generalization!). But the results depends on the context, not for every application it would be enough.\n",
    "\n",
    "The accuracy of the model is good with ~ 0.99. However, the answer to this question depends on the the use for the model. While 99% might be perfectly sufficient for notetaking on a personal device or a less serious use, if every 100th person doesn't cannot send a check to the intended person or if every 100th letter get's send to the wrong zipcode, this would of course be an issue."
   ]
  },
  {
   "cell_type": "code",
   "execution_count": 14,
   "metadata": {},
   "outputs": [
    {
     "name": "stdout",
     "output_type": "stream",
     "text": [
      "Model: \"sequential_1\"\n",
      "_________________________________________________________________\n",
      "Layer (type)                 Output Shape              Param #   \n",
      "=================================================================\n",
      "conv2d_2 (Conv2D)            (None, 26, 26, 32)        320       \n",
      "_________________________________________________________________\n",
      "conv2d_3 (Conv2D)            (None, 24, 24, 64)        18496     \n",
      "_________________________________________________________________\n",
      "max_pooling2d_1 (MaxPooling2 (None, 12, 12, 64)        0         \n",
      "_________________________________________________________________\n",
      "dropout (Dropout)            (None, 12, 12, 64)        0         \n",
      "_________________________________________________________________\n",
      "flatten_1 (Flatten)          (None, 9216)              0         \n",
      "_________________________________________________________________\n",
      "dense_2 (Dense)              (None, 128)               1179776   \n",
      "_________________________________________________________________\n",
      "dropout_1 (Dropout)          (None, 128)               0         \n",
      "_________________________________________________________________\n",
      "dense_3 (Dense)              (None, 10)                1290      \n",
      "=================================================================\n",
      "Total params: 1,199,882\n",
      "Trainable params: 1,199,882\n",
      "Non-trainable params: 0\n",
      "_________________________________________________________________\n"
     ]
    }
   ],
   "source": [
    "#Updating the model with Dropout Layers\n",
    "model2 = keras.Sequential()\n",
    "model2.add(keras.layers.Conv2D(filters=32, kernel_size=(3, 3),\n",
    "                              activation=\"relu\", input_shape=(28, 28, 1)))\n",
    "model2.add(keras.layers.Conv2D(filters=64, kernel_size=(3, 3), \n",
    "                              activation=\"relu\"))\n",
    "model2.add(keras.layers.MaxPool2D(pool_size=(2, 2)))\n",
    "model2.add(keras.layers.Dropout(rate=0.25))\n",
    "model2.add(keras.layers.Flatten())\n",
    "model2.add(keras.layers.Dense(128, activation=\"relu\")) \n",
    "model2.add(keras.layers.Dropout(rate=0.5))\n",
    "model2.add(keras.layers.Dense(10, activation=\"softmax\")) #output layer\n",
    "\n",
    "#Compile the Model:\n",
    "model2.compile(loss='categorical_crossentropy',\n",
    "   optimizer=keras.optimizers.Adadelta(learning_rate=1), metrics='accuracy')\n",
    "\n",
    "model2.summary()\n"
   ]
  },
  {
   "cell_type": "code",
   "execution_count": 15,
   "metadata": {},
   "outputs": [
    {
     "name": "stdout",
     "output_type": "stream",
     "text": [
      "Epoch 1/6\n",
      "375/375 [==============================] - 4s 10ms/step - loss: 0.6104 - accuracy: 0.8028 - val_loss: 0.0697 - val_accuracy: 0.9798\n",
      "Epoch 2/6\n",
      "375/375 [==============================] - 4s 10ms/step - loss: 0.1035 - accuracy: 0.9699 - val_loss: 0.0597 - val_accuracy: 0.9812\n",
      "Epoch 3/6\n",
      "375/375 [==============================] - 4s 10ms/step - loss: 0.0769 - accuracy: 0.9767 - val_loss: 0.0458 - val_accuracy: 0.9869\n",
      "Epoch 4/6\n",
      "375/375 [==============================] - 4s 11ms/step - loss: 0.0573 - accuracy: 0.9826 - val_loss: 0.0420 - val_accuracy: 0.9878\n",
      "Epoch 5/6\n",
      "375/375 [==============================] - 4s 11ms/step - loss: 0.0517 - accuracy: 0.9847 - val_loss: 0.0438 - val_accuracy: 0.9872\n",
      "Epoch 6/6\n",
      "375/375 [==============================] - 4s 10ms/step - loss: 0.0422 - accuracy: 0.9872 - val_loss: 0.0399 - val_accuracy: 0.9892\n"
     ]
    }
   ],
   "source": [
    "# Fit the model\n",
    "history2 = model2.fit(x_train, y_train, batch_size=128, \n",
    "                    epochs=6, verbose=1, validation_split=0.2)"
   ]
  },
  {
   "cell_type": "markdown",
   "metadata": {},
   "source": [
    "### Question 14:\n",
    "Discuss with your group, then describe to your teacher, how the training history\n",
    "differs from the previous (convolutional) model, for both the training and validation\n",
    "sets, and for the time taken to run each model epoch (Question 14, 3 points)\n"
   ]
  },
  {
   "cell_type": "markdown",
   "metadata": {},
   "source": [
    "**Answer**: Now the model more less time to train and the performance is higher, with no big difference from train and validation sets in final epochs. In training set, we have start with low accuracy using dropout (on first epoch) later on follows same patterns as before with high accuracy at ends, but in the test set both have similar results. So with dropout we have a faster model with similar results. Even though the accuracy is very similar, the model 1 jumps to a higher accuracy after the first epoch, whereas the model 2 increases more slowly due to dropout in the model.\n"
   ]
  },
  {
   "cell_type": "code",
   "execution_count": 20,
   "metadata": {},
   "outputs": [
    {
     "data": {
      "text/plain": [
       "<matplotlib.legend.Legend at 0x289abafc910>"
      ]
     },
     "execution_count": 20,
     "metadata": {},
     "output_type": "execute_result"
    },
    {
     "data": {
      "image/png": "[encoded data removed]",
      "text/plain": [
       "<Figure size 432x288 with 1 Axes>"
      ]
     },
     "metadata": {
      "needs_background": "light"
     },
     "output_type": "display_data"
    }
   ],
   "source": [
    "#suppport plot to question 14:\n",
    "#Accuracy: comparison on both models (training and validation accuracy)\n",
    "plt.title('model accuracy')\n",
    "plt.ylabel('accuracy')\n",
    "plt.xlabel('epoch')\n",
    "\n",
    "plt.plot(history.history['accuracy'], label = 'model_1_accuracy')\n",
    "plt.plot(history2.history['accuracy'], label = 'model_2_accuracy')\n",
    "plt.plot(history.history['val_accuracy'], label = 'model_1_val_accuracy')\n",
    "plt.plot(history2.history['val_accuracy'], label = 'model_2_val_accuracy')\n",
    "\n",
    "\n",
    "plt.legend()"
   ]
  },
  {
   "cell_type": "markdown",
   "metadata": {},
   "source": [
    "### Question 15: \n",
    "Discuss with your group, then describe to your teacher, what this tells us about the\n",
    "generalisation of the two models. (Question 15, 3 points)"
   ]
  },
  {
   "cell_type": "markdown",
   "metadata": {},
   "source": [
    "**Answer**: The difference between the two models is especially important as this model does not show signs of overfitting like the model 1 where the training accuracy was better than the test accuracy. In this case the model performs even better on the test dataset. The models accuracy didn't differ much from the accuracy of model 2, however the fact that there is no indicator of overfitting makes it a better model. The distance between the training dataset and the test dataset as plottet above is smaller than in model 1 while the accuracy increased. This makes model 2 have a better generalisability."
   ]
  },
  {
   "cell_type": "markdown",
   "metadata": {},
   "source": []
  },
  {
   "cell_type": "code",
   "execution_count": null,
   "metadata": {},
   "outputs": [],
   "source": []
  }
 ],
 "metadata": {
  "kernelspec": {
   "display_name": "Python 3",
   "language": "python",
   "name": "python3"
  },
  "language_info": {
   "codemirror_mode": {
    "name": "ipython",
    "version": 3
   },
   "file_extension": ".py",
   "mimetype": "text/x-python",
   "name": "python",
   "nbconvert_exporter": "python",
   "pygments_lexer": "ipython3",
   "version": "3.8.3"
  }
 },
 "nbformat": 4,
 "nbformat_minor": 4
}
